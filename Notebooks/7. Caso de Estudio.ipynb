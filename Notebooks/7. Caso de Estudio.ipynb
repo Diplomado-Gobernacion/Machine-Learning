{
 "cells": [
  {
   "cell_type": "markdown",
   "id": "9f9493c1-0bd2-4586-a913-ba5aabb13f2f",
   "metadata": {},
   "source": [
    "# Aprendizaje Supervizado - Supervivencia en el Titanic\n",
    "\n",
    "## Extracción de Características\n",
    "\n",
    "En esta parte se trabajará con extracción de características cuantitativas a partir de los datos.\n",
    "\n",
    "- Se extraeran características a partir de datos del mundo real.\n",
    "- Extraer características numéricas a partir de datos textuales.\n",
    "\n",
    "### Características\n",
    "\n",
    "**Características Numéricas**: \n",
    "Hasta el momento se han trabajado con datos (datasets) de scikit-learn que se presentan como arrays con tamaño **n_muestras** x **m_features**, como por ejemplo el dataset de Iris, con 150 muestras y 4 características."
   ]
  },
  {
   "cell_type": "code",
   "execution_count": 1,
   "id": "e6802729-8006-4706-9f89-a81163e49d19",
   "metadata": {},
   "outputs": [
    {
     "name": "stdout",
     "output_type": "stream",
     "text": [
      "(150, 4)\n"
     ]
    }
   ],
   "source": [
    "from sklearn.datasets import load_iris\n",
    "\n",
    "iris = load_iris()\n",
    "print(iris.data.shape)"
   ]
  },
  {
   "cell_type": "markdown",
   "id": "8298047a-4fc9-4b3d-be47-7a2137a5c9a4",
   "metadata": {},
   "source": [
    "- Características\n",
    "    - Longitud del sépalo [cm]\n",
    "    - Ancho del sépalo [cm]\n",
    "    - Longitud del pétalo [cm]\n",
    "    - Ancho del pépalo [cm]"
   ]
  },
  {
   "cell_type": "markdown",
   "id": "8ed20657-95df-491a-a790-2bc5b617e607",
   "metadata": {},
   "source": [
    "**Características Categóricas**: Imagine que tiene disponible el color de cada flor de Iris: $color \\in \\{red, blue, purple\\}$, en donde se podría pensar en trabajar con *red=1, blue=2, purple=3*, pero no es recomendable debido a que los estimadores tienden a trabajar con la suposición de que las características numéricas se sitúan en una escala continua. Por ejemplo, 1 y 2 (colores red y blue) serían más parecidos que 1 y 3 (colores red y purple), y esto no tiene mucho sentido, al menos en este ejemplo.\n",
    "\n",
    "<div class=\"alert alert-success\">\n",
    "    Este ejemplo es una subcategoria de las variables categóricas denominada <b>variable nominal</b>. Las variables nominales no tienen asociado un orden, mientras que las <b>variables ordinales</b> si lo implican, por ejemplo, las tallas de las camisetas se considera una variable ordinal XL > L > M > S.\n",
    "</div>\n",
    "\n",
    "Para transformar variables nominales en un formato que prevenga al estimador de asumir un orden es usando la representación **One-hot Encoding**, en donde cada categoría genera su propia variable por separado.\n",
    "\n",
    "- Características\n",
    "    - Longitud del sépalo [cm]\n",
    "    - Ancho del sépalo [cm]\n",
    "    - Longitud del pétalo [cm]\n",
    "    - Ancho del pépalo [cm]\n",
    "    - color=purple (1.0 o 0.0)\n",
    "    - color=blue (1.0 o 0.0)\n",
    "    - color=red (1.0 o 0.0)\n",
    "\n",
    "<div class=\"alert alert-warning\">\n",
    "    Es muy probable que debido a este tipo de características sea mejor usar matrices dispersas.\n",
    "</div>"
   ]
  },
  {
   "cell_type": "markdown",
   "id": "74029935-0eeb-43d8-b463-519ae1fc4672",
   "metadata": {},
   "source": [
    "- **DictVectorizer**\n",
    "\n",
    "La clase DictVectorizer es útil cuando los datos de entrada se nos presentan como un diccionario con valores que son cadenas o valores numéricos y se quiere obtener una expansión booleana.\n",
    "\n",
    "Por ejemplo:"
   ]
  },
  {
   "cell_type": "code",
   "execution_count": 2,
   "id": "04f2eddf-8d90-4f72-941b-25e3a3ca440f",
   "metadata": {},
   "outputs": [],
   "source": [
    "medidas = [\n",
    "    {'city': 'Dubai', 'temperature': 33.},\n",
    "    {'city': 'London', 'temperature': 12.},\n",
    "    {'city': 'San Francisco', 'temperature': 18.}\n",
    "]"
   ]
  },
  {
   "cell_type": "code",
   "execution_count": 3,
   "id": "a7aecb7a-7e84-4a16-a24a-29b8f58a4826",
   "metadata": {},
   "outputs": [
    {
     "data": {
      "text/plain": [
       "[{'city': 'Dubai', 'temperature': 33.0},\n",
       " {'city': 'London', 'temperature': 12.0},\n",
       " {'city': 'San Francisco', 'temperature': 18.0}]"
      ]
     },
     "execution_count": 3,
     "metadata": {},
     "output_type": "execute_result"
    }
   ],
   "source": [
    "medidas"
   ]
  },
  {
   "cell_type": "code",
   "execution_count": 6,
   "id": "df7599a9-e5cd-47a9-8e25-c7d124f6a113",
   "metadata": {},
   "outputs": [
    {
     "data": {
      "text/plain": [
       "array([[ 1.,  0.,  0., 33.],\n",
       "       [ 0.,  1.,  0., 12.],\n",
       "       [ 0.,  0.,  1., 18.]])"
      ]
     },
     "execution_count": 6,
     "metadata": {},
     "output_type": "execute_result"
    }
   ],
   "source": [
    "from sklearn.feature_extraction import DictVectorizer\n",
    "\n",
    "vector = DictVectorizer()\n",
    "vector.fit_transform(medidas).toarray()"
   ]
  },
  {
   "cell_type": "code",
   "execution_count": 7,
   "id": "301a8cb7-c969-4b23-9a4c-5292e9a543ec",
   "metadata": {},
   "outputs": [
    {
     "data": {
      "text/plain": [
       "array(['city=Dubai', 'city=London', 'city=San Francisco', 'temperature'],\n",
       "      dtype=object)"
      ]
     },
     "execution_count": 7,
     "metadata": {},
     "output_type": "execute_result"
    }
   ],
   "source": [
    "vector.get_feature_names_out()"
   ]
  },
  {
   "cell_type": "markdown",
   "id": "c70307fe-231b-4730-bb95-cf8506a8723d",
   "metadata": {},
   "source": [
    "**Características Derivadas**: Estas son obtenidas a partir de algún paso previo de preprocesamiento y que se suponen aportan mayor información al estimador. Puede obtenerse mediante **extración de características** o por **reducción de dimensionalidad** ó pueden ser combinaciones lineales o no lineales de características originales o alguna otra transformación."
   ]
  },
  {
   "cell_type": "markdown",
   "id": "35d35073-1865-44f6-8516-d15034a45662",
   "metadata": {},
   "source": [
    "## Supervivencia en el Titanic\n",
    "### Características Numéricas y Categóricas\n",
    "\n",
    "En el ejemplo a continuación se tratará de predecir la supervicencia de los pasajeros del HMS Titanic. Se trabajará con el siguiente dataset [titanic3.csv](https://raw.githubusercontent.com/amueller/scipy-2017-sklearn/master/notebooks/datasets/titanic3.csv).\n",
    "\n",
    "Para trabajar con este archivo se debe:\n",
    "\n",
    "- Leer todas las líneas ignorando la cabecera. \n",
    "- Leer los datos de entrada - (Características de la persona)\n",
    "- Encontrar las etiquetas (sobrevivió - murió)"
   ]
  },
  {
   "cell_type": "code",
   "execution_count": 9,
   "id": "513e1384-5d6a-4f9c-a197-7335dc2b8154",
   "metadata": {},
   "outputs": [
    {
     "data": {
      "text/plain": [
       "pandas.core.frame.DataFrame"
      ]
     },
     "execution_count": 9,
     "metadata": {},
     "output_type": "execute_result"
    }
   ],
   "source": [
    "import os\n",
    "import pandas as pd\n",
    "\n",
    "titanic = pd.read_csv(os.path.join('datasets', 'titanic3.csv'))\n",
    "# datasets/titanic3.csv\n",
    "type(titanic)"
   ]
  },
  {
   "cell_type": "code",
   "execution_count": 10,
   "id": "c55c4e9b-1b8c-499d-863b-c796697233f8",
   "metadata": {},
   "outputs": [
    {
     "data": {
      "text/plain": [
       "Index(['pclass', 'survived', 'name', 'sex', 'age', 'sibsp', 'parch', 'ticket',\n",
       "       'fare', 'cabin', 'embarked', 'boat', 'body', 'home.dest'],\n",
       "      dtype='object')"
      ]
     },
     "execution_count": 10,
     "metadata": {},
     "output_type": "execute_result"
    }
   ],
   "source": [
    "titanic.columns"
   ]
  },
  {
   "cell_type": "markdown",
   "id": "8d6183a7-5b3c-4d19-84c3-bb9114c013d2",
   "metadata": {},
   "source": [
    "\n",
    "Esta es una descripcion de cada una de las columnas (características)\n",
    "\n",
    "```\n",
    "\n",
    "pclass          Passenger Class\n",
    "                (1 = 1st; 2 = 2nd; 3 = 3rd)\n",
    "survival        Survival\n",
    "                (0 = No; 1 = Yes)\n",
    "name            Name\n",
    "sex             Sex\n",
    "age             Age\n",
    "sibsp           Number of Siblings/Spouses Aboard\n",
    "parch           Number of Parents/Children Aboard\n",
    "ticket          Ticket Number\n",
    "fare            Passenger Fare\n",
    "cabin           Cabin\n",
    "embarked        Port of Embarkation\n",
    "                (C = Cherbourg; Q = Queenstown; S = Southampton)\n",
    "boat            Lifeboat\n",
    "body            Body Identification Number\n",
    "home.dest       Home/Destination\n",
    "\n",
    "```\n",
    "\n",
    "Al analizar el dataset se puede observar que **name, sex, cabin, embarked, boat, body y home/dest** son candidatas a variables categoricas, mientras que el resto parecen variables numéricas. Observe los primeros datos del dataset:"
   ]
  },
  {
   "cell_type": "code",
   "execution_count": 11,
   "id": "fb23241b-56db-4504-9d19-1d739ffc2972",
   "metadata": {},
   "outputs": [
    {
     "data": {
      "text/html": [
       "<div>\n",
       "<style scoped>\n",
       "    .dataframe tbody tr th:only-of-type {\n",
       "        vertical-align: middle;\n",
       "    }\n",
       "\n",
       "    .dataframe tbody tr th {\n",
       "        vertical-align: top;\n",
       "    }\n",
       "\n",
       "    .dataframe thead th {\n",
       "        text-align: right;\n",
       "    }\n",
       "</style>\n",
       "<table border=\"1\" class=\"dataframe\">\n",
       "  <thead>\n",
       "    <tr style=\"text-align: right;\">\n",
       "      <th></th>\n",
       "      <th>pclass</th>\n",
       "      <th>survived</th>\n",
       "      <th>name</th>\n",
       "      <th>sex</th>\n",
       "      <th>age</th>\n",
       "      <th>sibsp</th>\n",
       "      <th>parch</th>\n",
       "      <th>ticket</th>\n",
       "      <th>fare</th>\n",
       "      <th>cabin</th>\n",
       "      <th>embarked</th>\n",
       "      <th>boat</th>\n",
       "      <th>body</th>\n",
       "      <th>home.dest</th>\n",
       "    </tr>\n",
       "  </thead>\n",
       "  <tbody>\n",
       "    <tr>\n",
       "      <th>0</th>\n",
       "      <td>1</td>\n",
       "      <td>1</td>\n",
       "      <td>Allen, Miss. Elisabeth Walton</td>\n",
       "      <td>female</td>\n",
       "      <td>29.0000</td>\n",
       "      <td>0</td>\n",
       "      <td>0</td>\n",
       "      <td>24160</td>\n",
       "      <td>211.3375</td>\n",
       "      <td>B5</td>\n",
       "      <td>S</td>\n",
       "      <td>2</td>\n",
       "      <td>NaN</td>\n",
       "      <td>St Louis, MO</td>\n",
       "    </tr>\n",
       "    <tr>\n",
       "      <th>1</th>\n",
       "      <td>1</td>\n",
       "      <td>1</td>\n",
       "      <td>Allison, Master. Hudson Trevor</td>\n",
       "      <td>male</td>\n",
       "      <td>0.9167</td>\n",
       "      <td>1</td>\n",
       "      <td>2</td>\n",
       "      <td>113781</td>\n",
       "      <td>151.5500</td>\n",
       "      <td>C22 C26</td>\n",
       "      <td>S</td>\n",
       "      <td>11</td>\n",
       "      <td>NaN</td>\n",
       "      <td>Montreal, PQ / Chesterville, ON</td>\n",
       "    </tr>\n",
       "    <tr>\n",
       "      <th>2</th>\n",
       "      <td>1</td>\n",
       "      <td>0</td>\n",
       "      <td>Allison, Miss. Helen Loraine</td>\n",
       "      <td>female</td>\n",
       "      <td>2.0000</td>\n",
       "      <td>1</td>\n",
       "      <td>2</td>\n",
       "      <td>113781</td>\n",
       "      <td>151.5500</td>\n",
       "      <td>C22 C26</td>\n",
       "      <td>S</td>\n",
       "      <td>NaN</td>\n",
       "      <td>NaN</td>\n",
       "      <td>Montreal, PQ / Chesterville, ON</td>\n",
       "    </tr>\n",
       "    <tr>\n",
       "      <th>3</th>\n",
       "      <td>1</td>\n",
       "      <td>0</td>\n",
       "      <td>Allison, Mr. Hudson Joshua Creighton</td>\n",
       "      <td>male</td>\n",
       "      <td>30.0000</td>\n",
       "      <td>1</td>\n",
       "      <td>2</td>\n",
       "      <td>113781</td>\n",
       "      <td>151.5500</td>\n",
       "      <td>C22 C26</td>\n",
       "      <td>S</td>\n",
       "      <td>NaN</td>\n",
       "      <td>135.0</td>\n",
       "      <td>Montreal, PQ / Chesterville, ON</td>\n",
       "    </tr>\n",
       "    <tr>\n",
       "      <th>4</th>\n",
       "      <td>1</td>\n",
       "      <td>0</td>\n",
       "      <td>Allison, Mrs. Hudson J C (Bessie Waldo Daniels)</td>\n",
       "      <td>female</td>\n",
       "      <td>25.0000</td>\n",
       "      <td>1</td>\n",
       "      <td>2</td>\n",
       "      <td>113781</td>\n",
       "      <td>151.5500</td>\n",
       "      <td>C22 C26</td>\n",
       "      <td>S</td>\n",
       "      <td>NaN</td>\n",
       "      <td>NaN</td>\n",
       "      <td>Montreal, PQ / Chesterville, ON</td>\n",
       "    </tr>\n",
       "  </tbody>\n",
       "</table>\n",
       "</div>"
      ],
      "text/plain": [
       "   pclass  survived                                             name     sex  \\\n",
       "0       1         1                    Allen, Miss. Elisabeth Walton  female   \n",
       "1       1         1                   Allison, Master. Hudson Trevor    male   \n",
       "2       1         0                     Allison, Miss. Helen Loraine  female   \n",
       "3       1         0             Allison, Mr. Hudson Joshua Creighton    male   \n",
       "4       1         0  Allison, Mrs. Hudson J C (Bessie Waldo Daniels)  female   \n",
       "\n",
       "       age  sibsp  parch  ticket      fare    cabin embarked boat   body  \\\n",
       "0  29.0000      0      0   24160  211.3375       B5        S    2    NaN   \n",
       "1   0.9167      1      2  113781  151.5500  C22 C26        S   11    NaN   \n",
       "2   2.0000      1      2  113781  151.5500  C22 C26        S  NaN    NaN   \n",
       "3  30.0000      1      2  113781  151.5500  C22 C26        S  NaN  135.0   \n",
       "4  25.0000      1      2  113781  151.5500  C22 C26        S  NaN    NaN   \n",
       "\n",
       "                         home.dest  \n",
       "0                     St Louis, MO  \n",
       "1  Montreal, PQ / Chesterville, ON  \n",
       "2  Montreal, PQ / Chesterville, ON  \n",
       "3  Montreal, PQ / Chesterville, ON  \n",
       "4  Montreal, PQ / Chesterville, ON  "
      ]
     },
     "execution_count": 11,
     "metadata": {},
     "output_type": "execute_result"
    }
   ],
   "source": [
    "titanic.head()"
   ]
  },
  {
   "cell_type": "markdown",
   "id": "cce7df50-4160-4138-8a24-07c535c7ffb0",
   "metadata": {},
   "source": [
    "Para este ejercicio de predecir la sobrevivencia de los pasajeros se debe descartar **boat** y **body** ya que nos informa lo que sucedio con ellos. EL nombre es único para cada persona y no está relacionado con su sobrevivienvia.\n",
    "\n",
    "Se usarán las siguientes características:\n",
    "\n",
    "- pclass\n",
    "- sex\n",
    "- age\n",
    "- sibsp\n",
    "- parch\n",
    "- fare\n",
    "- embarked\n"
   ]
  },
  {
   "cell_type": "code",
   "execution_count": 12,
   "id": "51da31a8-424b-422c-81de-057979b4a54a",
   "metadata": {},
   "outputs": [],
   "source": [
    "etiquetas = titanic.survived.values\n",
    "caracteristicas = titanic[['pclass', 'sex', 'age', 'sibsp', 'parch', 'fare', 'embarked']]"
   ]
  },
  {
   "cell_type": "code",
   "execution_count": 15,
   "id": "7b8f6630-8c89-4a72-b9aa-70000ebde157",
   "metadata": {},
   "outputs": [
    {
     "data": {
      "text/html": [
       "<div>\n",
       "<style scoped>\n",
       "    .dataframe tbody tr th:only-of-type {\n",
       "        vertical-align: middle;\n",
       "    }\n",
       "\n",
       "    .dataframe tbody tr th {\n",
       "        vertical-align: top;\n",
       "    }\n",
       "\n",
       "    .dataframe thead th {\n",
       "        text-align: right;\n",
       "    }\n",
       "</style>\n",
       "<table border=\"1\" class=\"dataframe\">\n",
       "  <thead>\n",
       "    <tr style=\"text-align: right;\">\n",
       "      <th></th>\n",
       "      <th>pclass</th>\n",
       "      <th>sex</th>\n",
       "      <th>age</th>\n",
       "      <th>sibsp</th>\n",
       "      <th>parch</th>\n",
       "      <th>fare</th>\n",
       "      <th>embarked</th>\n",
       "    </tr>\n",
       "  </thead>\n",
       "  <tbody>\n",
       "    <tr>\n",
       "      <th>0</th>\n",
       "      <td>1</td>\n",
       "      <td>female</td>\n",
       "      <td>29.0000</td>\n",
       "      <td>0</td>\n",
       "      <td>0</td>\n",
       "      <td>211.3375</td>\n",
       "      <td>S</td>\n",
       "    </tr>\n",
       "    <tr>\n",
       "      <th>1</th>\n",
       "      <td>1</td>\n",
       "      <td>male</td>\n",
       "      <td>0.9167</td>\n",
       "      <td>1</td>\n",
       "      <td>2</td>\n",
       "      <td>151.5500</td>\n",
       "      <td>S</td>\n",
       "    </tr>\n",
       "    <tr>\n",
       "      <th>2</th>\n",
       "      <td>1</td>\n",
       "      <td>female</td>\n",
       "      <td>2.0000</td>\n",
       "      <td>1</td>\n",
       "      <td>2</td>\n",
       "      <td>151.5500</td>\n",
       "      <td>S</td>\n",
       "    </tr>\n",
       "    <tr>\n",
       "      <th>3</th>\n",
       "      <td>1</td>\n",
       "      <td>male</td>\n",
       "      <td>30.0000</td>\n",
       "      <td>1</td>\n",
       "      <td>2</td>\n",
       "      <td>151.5500</td>\n",
       "      <td>S</td>\n",
       "    </tr>\n",
       "    <tr>\n",
       "      <th>4</th>\n",
       "      <td>1</td>\n",
       "      <td>female</td>\n",
       "      <td>25.0000</td>\n",
       "      <td>1</td>\n",
       "      <td>2</td>\n",
       "      <td>151.5500</td>\n",
       "      <td>S</td>\n",
       "    </tr>\n",
       "  </tbody>\n",
       "</table>\n",
       "</div>"
      ],
      "text/plain": [
       "   pclass     sex      age  sibsp  parch      fare embarked\n",
       "0       1  female  29.0000      0      0  211.3375        S\n",
       "1       1    male   0.9167      1      2  151.5500        S\n",
       "2       1  female   2.0000      1      2  151.5500        S\n",
       "3       1    male  30.0000      1      2  151.5500        S\n",
       "4       1  female  25.0000      1      2  151.5500        S"
      ]
     },
     "execution_count": 15,
     "metadata": {},
     "output_type": "execute_result"
    }
   ],
   "source": [
    "caracteristicas.head()"
   ]
  },
  {
   "cell_type": "markdown",
   "id": "ebeb18ae-80d4-4f80-99a6-72e87d92b95b",
   "metadata": {},
   "source": [
    "Por el momento, suponemos que los datos que se han extraído son características útiles para nuestro estimador. Sin embargo, estos datos no estan en un formato que los algortimos de Machine Learning puedan entender. La características **sex** y **embark** deben ser transformadas en variables binarias. Para ello se usará el método **get_dummies** de pandas."
   ]
  },
  {
   "cell_type": "code",
   "execution_count": 17,
   "id": "3a7f26d9-c54e-414c-9e6d-8440704501b7",
   "metadata": {},
   "outputs": [
    {
     "data": {
      "text/html": [
       "<div>\n",
       "<style scoped>\n",
       "    .dataframe tbody tr th:only-of-type {\n",
       "        vertical-align: middle;\n",
       "    }\n",
       "\n",
       "    .dataframe tbody tr th {\n",
       "        vertical-align: top;\n",
       "    }\n",
       "\n",
       "    .dataframe thead th {\n",
       "        text-align: right;\n",
       "    }\n",
       "</style>\n",
       "<table border=\"1\" class=\"dataframe\">\n",
       "  <thead>\n",
       "    <tr style=\"text-align: right;\">\n",
       "      <th></th>\n",
       "      <th>pclass</th>\n",
       "      <th>age</th>\n",
       "      <th>sibsp</th>\n",
       "      <th>parch</th>\n",
       "      <th>fare</th>\n",
       "      <th>sex_female</th>\n",
       "      <th>sex_male</th>\n",
       "      <th>embarked_C</th>\n",
       "      <th>embarked_Q</th>\n",
       "      <th>embarked_S</th>\n",
       "    </tr>\n",
       "  </thead>\n",
       "  <tbody>\n",
       "    <tr>\n",
       "      <th>0</th>\n",
       "      <td>1</td>\n",
       "      <td>29.0000</td>\n",
       "      <td>0</td>\n",
       "      <td>0</td>\n",
       "      <td>211.3375</td>\n",
       "      <td>1</td>\n",
       "      <td>0</td>\n",
       "      <td>0</td>\n",
       "      <td>0</td>\n",
       "      <td>1</td>\n",
       "    </tr>\n",
       "    <tr>\n",
       "      <th>1</th>\n",
       "      <td>1</td>\n",
       "      <td>0.9167</td>\n",
       "      <td>1</td>\n",
       "      <td>2</td>\n",
       "      <td>151.5500</td>\n",
       "      <td>0</td>\n",
       "      <td>1</td>\n",
       "      <td>0</td>\n",
       "      <td>0</td>\n",
       "      <td>1</td>\n",
       "    </tr>\n",
       "    <tr>\n",
       "      <th>2</th>\n",
       "      <td>1</td>\n",
       "      <td>2.0000</td>\n",
       "      <td>1</td>\n",
       "      <td>2</td>\n",
       "      <td>151.5500</td>\n",
       "      <td>1</td>\n",
       "      <td>0</td>\n",
       "      <td>0</td>\n",
       "      <td>0</td>\n",
       "      <td>1</td>\n",
       "    </tr>\n",
       "    <tr>\n",
       "      <th>3</th>\n",
       "      <td>1</td>\n",
       "      <td>30.0000</td>\n",
       "      <td>1</td>\n",
       "      <td>2</td>\n",
       "      <td>151.5500</td>\n",
       "      <td>0</td>\n",
       "      <td>1</td>\n",
       "      <td>0</td>\n",
       "      <td>0</td>\n",
       "      <td>1</td>\n",
       "    </tr>\n",
       "    <tr>\n",
       "      <th>4</th>\n",
       "      <td>1</td>\n",
       "      <td>25.0000</td>\n",
       "      <td>1</td>\n",
       "      <td>2</td>\n",
       "      <td>151.5500</td>\n",
       "      <td>1</td>\n",
       "      <td>0</td>\n",
       "      <td>0</td>\n",
       "      <td>0</td>\n",
       "      <td>1</td>\n",
       "    </tr>\n",
       "  </tbody>\n",
       "</table>\n",
       "</div>"
      ],
      "text/plain": [
       "   pclass      age  sibsp  parch      fare  sex_female  sex_male  embarked_C  \\\n",
       "0       1  29.0000      0      0  211.3375           1         0           0   \n",
       "1       1   0.9167      1      2  151.5500           0         1           0   \n",
       "2       1   2.0000      1      2  151.5500           1         0           0   \n",
       "3       1  30.0000      1      2  151.5500           0         1           0   \n",
       "4       1  25.0000      1      2  151.5500           1         0           0   \n",
       "\n",
       "   embarked_Q  embarked_S  \n",
       "0           0           1  \n",
       "1           0           1  \n",
       "2           0           1  \n",
       "3           0           1  \n",
       "4           0           1  "
      ]
     },
     "execution_count": 17,
     "metadata": {},
     "output_type": "execute_result"
    }
   ],
   "source": [
    "pd.get_dummies(caracteristicas).head()"
   ]
  },
  {
   "cell_type": "markdown",
   "id": "cbd18057-3a5a-4116-90be-51251ae83ad3",
   "metadata": {},
   "source": [
    "Si se observa las últimas columnas se ve que la transformación se ha realizado con éxito. Sin embargo, se ha ignorado la variable **pclass** que también es categórica.\n",
    "\n",
    "El método **get_dummies** permite listar de forma explícita las variables que se quieren codificar mediante el parámetro **columns**."
   ]
  },
  {
   "cell_type": "code",
   "execution_count": 18,
   "id": "c37780f3-a3ba-44cf-9240-d8768bc2387b",
   "metadata": {},
   "outputs": [
    {
     "data": {
      "text/html": [
       "<div>\n",
       "<style scoped>\n",
       "    .dataframe tbody tr th:only-of-type {\n",
       "        vertical-align: middle;\n",
       "    }\n",
       "\n",
       "    .dataframe tbody tr th {\n",
       "        vertical-align: top;\n",
       "    }\n",
       "\n",
       "    .dataframe thead th {\n",
       "        text-align: right;\n",
       "    }\n",
       "</style>\n",
       "<table border=\"1\" class=\"dataframe\">\n",
       "  <thead>\n",
       "    <tr style=\"text-align: right;\">\n",
       "      <th></th>\n",
       "      <th>age</th>\n",
       "      <th>sibsp</th>\n",
       "      <th>parch</th>\n",
       "      <th>fare</th>\n",
       "      <th>pclass_1</th>\n",
       "      <th>pclass_2</th>\n",
       "      <th>pclass_3</th>\n",
       "      <th>sex_female</th>\n",
       "      <th>sex_male</th>\n",
       "      <th>embarked_C</th>\n",
       "      <th>embarked_Q</th>\n",
       "      <th>embarked_S</th>\n",
       "    </tr>\n",
       "  </thead>\n",
       "  <tbody>\n",
       "    <tr>\n",
       "      <th>0</th>\n",
       "      <td>29.0000</td>\n",
       "      <td>0</td>\n",
       "      <td>0</td>\n",
       "      <td>211.3375</td>\n",
       "      <td>1</td>\n",
       "      <td>0</td>\n",
       "      <td>0</td>\n",
       "      <td>1</td>\n",
       "      <td>0</td>\n",
       "      <td>0</td>\n",
       "      <td>0</td>\n",
       "      <td>1</td>\n",
       "    </tr>\n",
       "    <tr>\n",
       "      <th>1</th>\n",
       "      <td>0.9167</td>\n",
       "      <td>1</td>\n",
       "      <td>2</td>\n",
       "      <td>151.5500</td>\n",
       "      <td>1</td>\n",
       "      <td>0</td>\n",
       "      <td>0</td>\n",
       "      <td>0</td>\n",
       "      <td>1</td>\n",
       "      <td>0</td>\n",
       "      <td>0</td>\n",
       "      <td>1</td>\n",
       "    </tr>\n",
       "    <tr>\n",
       "      <th>2</th>\n",
       "      <td>2.0000</td>\n",
       "      <td>1</td>\n",
       "      <td>2</td>\n",
       "      <td>151.5500</td>\n",
       "      <td>1</td>\n",
       "      <td>0</td>\n",
       "      <td>0</td>\n",
       "      <td>1</td>\n",
       "      <td>0</td>\n",
       "      <td>0</td>\n",
       "      <td>0</td>\n",
       "      <td>1</td>\n",
       "    </tr>\n",
       "    <tr>\n",
       "      <th>3</th>\n",
       "      <td>30.0000</td>\n",
       "      <td>1</td>\n",
       "      <td>2</td>\n",
       "      <td>151.5500</td>\n",
       "      <td>1</td>\n",
       "      <td>0</td>\n",
       "      <td>0</td>\n",
       "      <td>0</td>\n",
       "      <td>1</td>\n",
       "      <td>0</td>\n",
       "      <td>0</td>\n",
       "      <td>1</td>\n",
       "    </tr>\n",
       "    <tr>\n",
       "      <th>4</th>\n",
       "      <td>25.0000</td>\n",
       "      <td>1</td>\n",
       "      <td>2</td>\n",
       "      <td>151.5500</td>\n",
       "      <td>1</td>\n",
       "      <td>0</td>\n",
       "      <td>0</td>\n",
       "      <td>1</td>\n",
       "      <td>0</td>\n",
       "      <td>0</td>\n",
       "      <td>0</td>\n",
       "      <td>1</td>\n",
       "    </tr>\n",
       "  </tbody>\n",
       "</table>\n",
       "</div>"
      ],
      "text/plain": [
       "       age  sibsp  parch      fare  pclass_1  pclass_2  pclass_3  sex_female  \\\n",
       "0  29.0000      0      0  211.3375         1         0         0           1   \n",
       "1   0.9167      1      2  151.5500         1         0         0           0   \n",
       "2   2.0000      1      2  151.5500         1         0         0           1   \n",
       "3  30.0000      1      2  151.5500         1         0         0           0   \n",
       "4  25.0000      1      2  151.5500         1         0         0           1   \n",
       "\n",
       "   sex_male  embarked_C  embarked_Q  embarked_S  \n",
       "0         0           0           0           1  \n",
       "1         1           0           0           1  \n",
       "2         0           0           0           1  \n",
       "3         1           0           0           1  \n",
       "4         0           0           0           1  "
      ]
     },
     "execution_count": 18,
     "metadata": {},
     "output_type": "execute_result"
    }
   ],
   "source": [
    "caracteristicas_dummies = pd.get_dummies(caracteristicas, columns=['pclass', 'sex', 'embarked'])\n",
    "caracteristicas_dummies.head()"
   ]
  },
  {
   "cell_type": "markdown",
   "id": "ad0cb651-2b3a-4aa1-b468-96a8bdbad1fe",
   "metadata": {},
   "source": [
    "\n",
    "También es posible realizar esta tarea con **DictVectorizer**\n"
   ]
  },
  {
   "cell_type": "code",
   "execution_count": 20,
   "id": "008e86a6-ae98-44e1-b188-dffcda8b98c2",
   "metadata": {},
   "outputs": [
    {
     "name": "stdout",
     "output_type": "stream",
     "text": [
      "<class 'scipy.sparse._csr.csr_matrix'>\n",
      "[[29.      0.      0.     ...  1.      0.      0.    ]\n",
      " [ 0.9167  0.      0.     ...  0.      1.      1.    ]\n",
      " [ 2.      0.      0.     ...  1.      0.      1.    ]\n",
      " ...\n",
      " [26.5     0.      1.     ...  0.      1.      0.    ]\n",
      " [27.      0.      1.     ...  0.      1.      0.    ]\n",
      " [29.      0.      0.     ...  0.      1.      0.    ]]\n"
     ]
    }
   ],
   "source": [
    "diccionario = caracteristicas.to_dict('records')\n",
    "vec = DictVectorizer()\n",
    "dataset = vec.fit_transform(diccionario)\n",
    "print(type(dataset))\n",
    "print(dataset.todense())"
   ]
  },
  {
   "cell_type": "markdown",
   "id": "a7d37b24-2b82-4eb7-a962-ca4452daa397",
   "metadata": {},
   "source": []
  },
  {
   "cell_type": "code",
   "execution_count": 21,
   "id": "f5171402-b2a6-4468-aa81-0f4719c4fe39",
   "metadata": {},
   "outputs": [
    {
     "name": "stdout",
     "output_type": "stream",
     "text": [
      "<class 'pandas.core.frame.DataFrame'>\n"
     ]
    },
    {
     "data": {
      "text/plain": [
       "numpy.ndarray"
      ]
     },
     "execution_count": 21,
     "metadata": {},
     "output_type": "execute_result"
    }
   ],
   "source": [
    "# Covertir el dataframe en array de numpy\n",
    "print(type(caracteristicas_dummies))\n",
    "data = caracteristicas_dummies.values\n",
    "type(data)"
   ]
  },
  {
   "cell_type": "code",
   "execution_count": 23,
   "id": "c93ceb70-8d1a-438b-b561-c473fe732ac9",
   "metadata": {},
   "outputs": [
    {
     "data": {
      "text/plain": [
       "True"
      ]
     },
     "execution_count": 23,
     "metadata": {},
     "output_type": "execute_result"
    }
   ],
   "source": [
    "# Comprabar que no existan valores perdidos NaN\n",
    "import numpy as np\n",
    "np.isnan(data).any()\n",
    "\n",
    "# Si es True contiene Nan"
   ]
  },
  {
   "cell_type": "markdown",
   "id": "107febc2-73ab-48f5-b7d1-9a76a439618f",
   "metadata": {},
   "source": [
    "Hasta esta parte se ha cargado los datos, filtrado y construido el dataset. Ahora se eligirá un clasificador. Para este ejercicio se usará **DummyClassifier('most_frequent')**.\n",
    "\n",
    "<div class=\"alert alert-success\">\n",
    "    DummyClassifier hace predicciones que ignoran las características de entrada. Este clasificador sirve como una línea de base simple para comparar con otros clasificadores más complejos. El comportamiento específico de la línea de base se selecciona con el parámetro de estrategia. Todas las estrategias hacen predicciones que ignoran los valores de características de entrada pasados como argumento <b>X</b> para ajustar y predecir. Las predicciones, sin embargo, generalmente dependen de los valores observados en el parámetro <b>y</b> pasado para ajustar.\n",
    "</div>\n",
    "\n",
    "Como los datos presentan **Nan** se usará **SimpleImputer** para corregir este problema.\n",
    "\n",
    "<div class=\"alert alert-success\">\n",
    "    Imputador univariante para completar valores faltantes con estrategias simples. Reemplace los valores faltantes usando una estadística descriptiva (por ejemplo, media, mediana o más frecuente) a lo largo de cada columna, o usando un valor constante.\n",
    "<div>"
   ]
  },
  {
   "cell_type": "code",
   "execution_count": 24,
   "id": "cb3f361f-8fe6-43be-aa1c-0820a2a49dda",
   "metadata": {},
   "outputs": [],
   "source": [
    "from sklearn.model_selection import train_test_split\n",
    "from sklearn.impute import SimpleImputer\n",
    "\n",
    "train_data, test_data, train_labels, test_labels = train_test_split(data, etiquetas, random_state=0)\n",
    "\n",
    "imp = SimpleImputer()\n",
    "imp.fit(train_data)\n",
    "train_data_finite = imp.transform(train_data)\n",
    "test_data_finite = imp.transform(test_data)"
   ]
  },
  {
   "cell_type": "code",
   "execution_count": 27,
   "id": "2ca7c7d7-976c-41b9-8974-880e2c061e07",
   "metadata": {},
   "outputs": [
    {
     "data": {
      "text/plain": [
       "False"
      ]
     },
     "execution_count": 27,
     "metadata": {},
     "output_type": "execute_result"
    }
   ],
   "source": [
    "# Volvemos apreguntar si existen valores Nan\n",
    "np.isnan(train_data_finite).any()"
   ]
  },
  {
   "cell_type": "code",
   "execution_count": 28,
   "id": "bf1add18-0136-4fef-b301-814ebbc2447b",
   "metadata": {},
   "outputs": [
    {
     "data": {
      "text/plain": [
       "False"
      ]
     },
     "execution_count": 28,
     "metadata": {},
     "output_type": "execute_result"
    }
   ],
   "source": [
    "np.isnan(test_data_finite).any()"
   ]
  },
  {
   "cell_type": "code",
   "execution_count": 29,
   "id": "c622a350-9dec-40b4-95fd-bb460d779c79",
   "metadata": {},
   "outputs": [
    {
     "name": "stdout",
     "output_type": "stream",
     "text": [
      "Accuracy: 0.6341463414634146\n"
     ]
    }
   ],
   "source": [
    "from sklearn.dummy import DummyClassifier\n",
    "\n",
    "dmc = DummyClassifier(strategy='most_frequent')\n",
    "dmc.fit(train_data_finite, train_labels)\n",
    "print(f\"Accuracy: {dmc.score(test_data_finite, test_labels)}\")"
   ]
  },
  {
   "cell_type": "markdown",
   "id": "21850ae3-f100-468d-95c6-ce2591d6cafc",
   "metadata": {},
   "source": [
    "<div class=\"alert alert-info\">\n",
    "    <b>EJERCICIO:</b>\n",
    "    <ul>\n",
    "        <li>Usar LogisticRegression y RandomForestClassifier</li>\n",
    "        <li>Probar con otras características - Se consiguen mejores resultados?</li>\n",
    "    </ul>\n",
    "</div>"
   ]
  },
  {
   "cell_type": "markdown",
   "id": "e4770c0a-9057-4334-98fc-9a0330e5cdbd",
   "metadata": {},
   "source": [
    "[LogisticRegression](https://scikit-learn.org/stable/modules/generated/sklearn.linear_model.LogisticRegression.html#sklearn.linear_model.LogisticRegression)\n",
    "\n",
    "**from sklearn.linear_model import LogisticRegression**\n",
    "\n",
    "[RandomForestClassifier](https://scikit-learn.org/stable/modules/generated/sklearn.ensemble.RandomForestClassifier.html#sklearn.ensemble.RandomForestClassifier)\n",
    "\n",
    "**from sklearn.ensemble import RandomForestClassifier**"
   ]
  },
  {
   "cell_type": "code",
   "execution_count": 41,
   "id": "282761a4-ba9f-43d1-bc8a-2f4fdcccf32b",
   "metadata": {},
   "outputs": [
    {
     "data": {
      "text/plain": [
       "0.7926829268292683"
      ]
     },
     "execution_count": 41,
     "metadata": {},
     "output_type": "execute_result"
    }
   ],
   "source": [
    "from sklearn.linear_model import LogisticRegression\n",
    "\n",
    "lg = LogisticRegression(max_iter=1000)\n",
    "lg.fit(train_data_finite, train_labels)\n",
    "lg.score(test_data_finite, test_labels)"
   ]
  },
  {
   "cell_type": "code",
   "execution_count": 52,
   "id": "b9227935-0dab-42d5-b88e-39bc4ce50449",
   "metadata": {},
   "outputs": [
    {
     "data": {
      "text/plain": [
       "0.7774390243902439"
      ]
     },
     "execution_count": 52,
     "metadata": {},
     "output_type": "execute_result"
    }
   ],
   "source": [
    "from sklearn.ensemble import RandomForestClassifier\n",
    "\n",
    "rdf = RandomForestClassifier(n_estimators=200, oob_score=False, n_jobs=2, random_state =0)\n",
    "rdf.fit(train_data_finite, train_labels)\n",
    "rdf.score(test_data_finite, test_labels)"
   ]
  }
 ],
 "metadata": {
  "kernelspec": {
   "display_name": "Python 3 (ipykernel)",
   "language": "python",
   "name": "python3"
  },
  "language_info": {
   "codemirror_mode": {
    "name": "ipython",
    "version": 3
   },
   "file_extension": ".py",
   "mimetype": "text/x-python",
   "name": "python",
   "nbconvert_exporter": "python",
   "pygments_lexer": "ipython3",
   "version": "3.9.16"
  }
 },
 "nbformat": 4,
 "nbformat_minor": 5
}
