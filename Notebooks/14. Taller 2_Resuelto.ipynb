{
 "cells": [
  {
   "cell_type": "markdown",
   "id": "5efd4dfd-8890-4d29-9407-cab52ef1ccad",
   "metadata": {},
   "source": [
    "# Taller 2\n",
    "\n",
    "## Machine Learning - Aprendizaje Supervisado\n",
    "\n",
    "En el taller anterior su trabajo con un dataset que se ha descargado desde los proporcionados por scikit-learn. Ahora se trabajará nuevamente un modelo de clasificación pero con el dataset de los datos de los pasajeros del Titanic el cual presenta datos que deben ser revisados antes de ingresarlos al clasificador."
   ]
  },
  {
   "cell_type": "code",
   "execution_count": 1,
   "id": "72e558c4-d506-4470-84ad-d99e98c20010",
   "metadata": {},
   "outputs": [],
   "source": [
    "# Cargue el dataset que se encuentra en la ccarpeta datasets\n",
    "\n",
    "import os\n",
    "import pandas as pd\n",
    "\n",
    "titanic = pd.read_csv(os.path.join('datasets', 'titanic3.csv'))"
   ]
  },
  {
   "cell_type": "code",
   "execution_count": 2,
   "id": "cad9e5c3-0d30-4469-96e6-be4c08080a9f",
   "metadata": {},
   "outputs": [
    {
     "data": {
      "text/plain": [
       "pandas.core.frame.DataFrame"
      ]
     },
     "execution_count": 2,
     "metadata": {},
     "output_type": "execute_result"
    }
   ],
   "source": [
    "# Siempre al usar un nuevo set de datos debe exxaminarze en detalle \n",
    "# y realizar los cambios necesarios para que nuestro estimador pueda entrenarse\n",
    "\n",
    "# Como se ha usado Pandas para cargar el archivo CSV este queda automaticamente\n",
    "# convertido en un Dataframe. \n",
    "\n",
    "type(titanic)"
   ]
  },
  {
   "cell_type": "markdown",
   "id": "2ff058db-7b53-467f-9185-362593f865a6",
   "metadata": {},
   "source": [
    "Esta primera parte del taller esta basada en los temas vistos en el notebook **7. Caso de Estudio**."
   ]
  },
  {
   "cell_type": "code",
   "execution_count": 3,
   "id": "434661a6-0917-436f-8c7a-09c09676ffa0",
   "metadata": {},
   "outputs": [
    {
     "data": {
      "text/plain": [
       "Index(['pclass', 'survived', 'name', 'sex', 'age', 'sibsp', 'parch', 'ticket',\n",
       "       'fare', 'cabin', 'embarked', 'boat', 'body', 'home.dest'],\n",
       "      dtype='object')"
      ]
     },
     "execution_count": 3,
     "metadata": {},
     "output_type": "execute_result"
    }
   ],
   "source": [
    "# Imprima la descripcion de las columnas del dataframe\n",
    "\n",
    "titanic.columns"
   ]
  },
  {
   "cell_type": "code",
   "execution_count": 4,
   "id": "eed67488-3bf7-4726-8536-25601f4d57c9",
   "metadata": {},
   "outputs": [],
   "source": [
    "# Recuerde que Pandas por defecto asume que la primera linea que enceuntra en el\n",
    "# archivo, son los nombres de cada una de las columnas y es el que usará como la\n",
    "# llave para ellas. "
   ]
  },
  {
   "cell_type": "markdown",
   "id": "cc6ef13f-fb86-4488-92cf-c5dc52c4d96d",
   "metadata": {},
   "source": [
    "```\n",
    "\n",
    "pclass          Passenger Class\n",
    "                (1 = 1st; 2 = 2nd; 3 = 3rd)\n",
    "survival        Survival\n",
    "                (0 = No; 1 = Yes)\n",
    "name            Name\n",
    "sex             Sex\n",
    "age             Age\n",
    "sibsp           Number of Siblings/Spouses Aboard\n",
    "parch           Number of Parents/Children Aboard\n",
    "ticket          Ticket Number\n",
    "fare            Passenger Fare\n",
    "cabin           Cabin\n",
    "embarked        Port of Embarkation\n",
    "                (C = Cherbourg; Q = Queenstown; S = Southampton)\n",
    "boat            Lifeboat\n",
    "body            Body Identification Number\n",
    "home.dest       Home/Destination\n",
    "\n",
    "```"
   ]
  },
  {
   "cell_type": "code",
   "execution_count": 5,
   "id": "179b5f3f-1375-4e4e-98fd-3cac92d817e8",
   "metadata": {},
   "outputs": [
    {
     "data": {
      "text/html": [
       "<div>\n",
       "<style scoped>\n",
       "    .dataframe tbody tr th:only-of-type {\n",
       "        vertical-align: middle;\n",
       "    }\n",
       "\n",
       "    .dataframe tbody tr th {\n",
       "        vertical-align: top;\n",
       "    }\n",
       "\n",
       "    .dataframe thead th {\n",
       "        text-align: right;\n",
       "    }\n",
       "</style>\n",
       "<table border=\"1\" class=\"dataframe\">\n",
       "  <thead>\n",
       "    <tr style=\"text-align: right;\">\n",
       "      <th></th>\n",
       "      <th>pclass</th>\n",
       "      <th>survived</th>\n",
       "      <th>name</th>\n",
       "      <th>sex</th>\n",
       "      <th>age</th>\n",
       "      <th>sibsp</th>\n",
       "      <th>parch</th>\n",
       "      <th>ticket</th>\n",
       "      <th>fare</th>\n",
       "      <th>cabin</th>\n",
       "      <th>embarked</th>\n",
       "      <th>boat</th>\n",
       "      <th>body</th>\n",
       "      <th>home.dest</th>\n",
       "    </tr>\n",
       "  </thead>\n",
       "  <tbody>\n",
       "    <tr>\n",
       "      <th>0</th>\n",
       "      <td>1</td>\n",
       "      <td>1</td>\n",
       "      <td>Allen, Miss. Elisabeth Walton</td>\n",
       "      <td>female</td>\n",
       "      <td>29.0000</td>\n",
       "      <td>0</td>\n",
       "      <td>0</td>\n",
       "      <td>24160</td>\n",
       "      <td>211.3375</td>\n",
       "      <td>B5</td>\n",
       "      <td>S</td>\n",
       "      <td>2</td>\n",
       "      <td>NaN</td>\n",
       "      <td>St Louis, MO</td>\n",
       "    </tr>\n",
       "    <tr>\n",
       "      <th>1</th>\n",
       "      <td>1</td>\n",
       "      <td>1</td>\n",
       "      <td>Allison, Master. Hudson Trevor</td>\n",
       "      <td>male</td>\n",
       "      <td>0.9167</td>\n",
       "      <td>1</td>\n",
       "      <td>2</td>\n",
       "      <td>113781</td>\n",
       "      <td>151.5500</td>\n",
       "      <td>C22 C26</td>\n",
       "      <td>S</td>\n",
       "      <td>11</td>\n",
       "      <td>NaN</td>\n",
       "      <td>Montreal, PQ / Chesterville, ON</td>\n",
       "    </tr>\n",
       "    <tr>\n",
       "      <th>2</th>\n",
       "      <td>1</td>\n",
       "      <td>0</td>\n",
       "      <td>Allison, Miss. Helen Loraine</td>\n",
       "      <td>female</td>\n",
       "      <td>2.0000</td>\n",
       "      <td>1</td>\n",
       "      <td>2</td>\n",
       "      <td>113781</td>\n",
       "      <td>151.5500</td>\n",
       "      <td>C22 C26</td>\n",
       "      <td>S</td>\n",
       "      <td>NaN</td>\n",
       "      <td>NaN</td>\n",
       "      <td>Montreal, PQ / Chesterville, ON</td>\n",
       "    </tr>\n",
       "    <tr>\n",
       "      <th>3</th>\n",
       "      <td>1</td>\n",
       "      <td>0</td>\n",
       "      <td>Allison, Mr. Hudson Joshua Creighton</td>\n",
       "      <td>male</td>\n",
       "      <td>30.0000</td>\n",
       "      <td>1</td>\n",
       "      <td>2</td>\n",
       "      <td>113781</td>\n",
       "      <td>151.5500</td>\n",
       "      <td>C22 C26</td>\n",
       "      <td>S</td>\n",
       "      <td>NaN</td>\n",
       "      <td>135.0</td>\n",
       "      <td>Montreal, PQ / Chesterville, ON</td>\n",
       "    </tr>\n",
       "    <tr>\n",
       "      <th>4</th>\n",
       "      <td>1</td>\n",
       "      <td>0</td>\n",
       "      <td>Allison, Mrs. Hudson J C (Bessie Waldo Daniels)</td>\n",
       "      <td>female</td>\n",
       "      <td>25.0000</td>\n",
       "      <td>1</td>\n",
       "      <td>2</td>\n",
       "      <td>113781</td>\n",
       "      <td>151.5500</td>\n",
       "      <td>C22 C26</td>\n",
       "      <td>S</td>\n",
       "      <td>NaN</td>\n",
       "      <td>NaN</td>\n",
       "      <td>Montreal, PQ / Chesterville, ON</td>\n",
       "    </tr>\n",
       "  </tbody>\n",
       "</table>\n",
       "</div>"
      ],
      "text/plain": [
       "   pclass  survived                                             name     sex  \\\n",
       "0       1         1                    Allen, Miss. Elisabeth Walton  female   \n",
       "1       1         1                   Allison, Master. Hudson Trevor    male   \n",
       "2       1         0                     Allison, Miss. Helen Loraine  female   \n",
       "3       1         0             Allison, Mr. Hudson Joshua Creighton    male   \n",
       "4       1         0  Allison, Mrs. Hudson J C (Bessie Waldo Daniels)  female   \n",
       "\n",
       "       age  sibsp  parch  ticket      fare    cabin embarked boat   body  \\\n",
       "0  29.0000      0      0   24160  211.3375       B5        S    2    NaN   \n",
       "1   0.9167      1      2  113781  151.5500  C22 C26        S   11    NaN   \n",
       "2   2.0000      1      2  113781  151.5500  C22 C26        S  NaN    NaN   \n",
       "3  30.0000      1      2  113781  151.5500  C22 C26        S  NaN  135.0   \n",
       "4  25.0000      1      2  113781  151.5500  C22 C26        S  NaN    NaN   \n",
       "\n",
       "                         home.dest  \n",
       "0                     St Louis, MO  \n",
       "1  Montreal, PQ / Chesterville, ON  \n",
       "2  Montreal, PQ / Chesterville, ON  \n",
       "3  Montreal, PQ / Chesterville, ON  \n",
       "4  Montreal, PQ / Chesterville, ON  "
      ]
     },
     "execution_count": 5,
     "metadata": {},
     "output_type": "execute_result"
    }
   ],
   "source": [
    "# Cuando creamos un modelo de Machine Learning, tratamos de aprender de los datos \n",
    "# ciertos patrones que noos permitan realizar predecciones con nuevos datos. Para este ejemplo,\n",
    "# se busca predecir cuales pasajeros pueden o no sobrevivir al hundimiento del Titanic\n",
    "# segun ciertas caracteristicas, como su sexo, edad, etc. Tendremos que elegir cuales hacen que\n",
    "# nuetro modelo sea mas eficiente\n",
    "\n",
    "# Observe los primero 5 datos del Dataframe\n",
    "\n",
    "titanic.head()"
   ]
  },
  {
   "cell_type": "code",
   "execution_count": 6,
   "id": "7175f82a-8d6d-4fd5-91e2-082264f725cf",
   "metadata": {},
   "outputs": [],
   "source": [
    "# Como el ejercicio es predecir si un pasajero sobrevive o no, los datos de body y boat\n",
    "# debe retirarse de nuestro dataset por motivos obvios; nos confirman que sobreviven o no.\n",
    "# Ahora se debe elegir cuales de estas caracteristicas restantes son mas valiosas para construir\n",
    "# nuestro modelo.\n",
    "\n",
    "# En el Notebook base se usaron:\n",
    "#\n",
    "#   pclass: Clase Pasajero\n",
    "#   sex: Sexo\n",
    "#   age: Edad\n",
    "#   sibsp: Número de hermanos/cónyuges a bordo\n",
    "#   parch: Número de padres/hijos a bordo\n",
    "#   fare: Tarifa de pasajero\n",
    "#   embarked: Embarque\n",
    "#\n",
    "# Para esta configuracion se obtuvo un rendimiento del modelo del 79%.\n",
    "#\n",
    "# Para este nuevo ejemplo se seleccionaran:\n",
    "#\n",
    "#   pclass: Clase Pasajero\n",
    "#   sex: Sexo\n",
    "#   age: Edad\n",
    "#   sibsp: Número de hermanos/cónyuges a bordo\n",
    "#   parch: Número de padres/hijos a bordo\n",
    "#   cabin: Cabina\n",
    "\n",
    "# Cree el vector de etiquetas y la matriz de caracteristicas con las columnas nombradas \n",
    "# anteriormente.\n",
    "\n",
    "etiquetas = titanic.survived.values\n",
    "caracteristicas = titanic[['pclass', 'sex', 'age', 'sibsp', 'parch', 'cabin']]"
   ]
  },
  {
   "cell_type": "code",
   "execution_count": 7,
   "id": "c01319f7-2fc0-43ab-a622-78e4e09a2200",
   "metadata": {},
   "outputs": [
    {
     "data": {
      "text/html": [
       "<div>\n",
       "<style scoped>\n",
       "    .dataframe tbody tr th:only-of-type {\n",
       "        vertical-align: middle;\n",
       "    }\n",
       "\n",
       "    .dataframe tbody tr th {\n",
       "        vertical-align: top;\n",
       "    }\n",
       "\n",
       "    .dataframe thead th {\n",
       "        text-align: right;\n",
       "    }\n",
       "</style>\n",
       "<table border=\"1\" class=\"dataframe\">\n",
       "  <thead>\n",
       "    <tr style=\"text-align: right;\">\n",
       "      <th></th>\n",
       "      <th>pclass</th>\n",
       "      <th>sex</th>\n",
       "      <th>age</th>\n",
       "      <th>sibsp</th>\n",
       "      <th>parch</th>\n",
       "      <th>cabin</th>\n",
       "    </tr>\n",
       "  </thead>\n",
       "  <tbody>\n",
       "    <tr>\n",
       "      <th>0</th>\n",
       "      <td>1</td>\n",
       "      <td>female</td>\n",
       "      <td>29.0000</td>\n",
       "      <td>0</td>\n",
       "      <td>0</td>\n",
       "      <td>B5</td>\n",
       "    </tr>\n",
       "    <tr>\n",
       "      <th>1</th>\n",
       "      <td>1</td>\n",
       "      <td>male</td>\n",
       "      <td>0.9167</td>\n",
       "      <td>1</td>\n",
       "      <td>2</td>\n",
       "      <td>C22 C26</td>\n",
       "    </tr>\n",
       "    <tr>\n",
       "      <th>2</th>\n",
       "      <td>1</td>\n",
       "      <td>female</td>\n",
       "      <td>2.0000</td>\n",
       "      <td>1</td>\n",
       "      <td>2</td>\n",
       "      <td>C22 C26</td>\n",
       "    </tr>\n",
       "    <tr>\n",
       "      <th>3</th>\n",
       "      <td>1</td>\n",
       "      <td>male</td>\n",
       "      <td>30.0000</td>\n",
       "      <td>1</td>\n",
       "      <td>2</td>\n",
       "      <td>C22 C26</td>\n",
       "    </tr>\n",
       "    <tr>\n",
       "      <th>4</th>\n",
       "      <td>1</td>\n",
       "      <td>female</td>\n",
       "      <td>25.0000</td>\n",
       "      <td>1</td>\n",
       "      <td>2</td>\n",
       "      <td>C22 C26</td>\n",
       "    </tr>\n",
       "  </tbody>\n",
       "</table>\n",
       "</div>"
      ],
      "text/plain": [
       "   pclass     sex      age  sibsp  parch    cabin\n",
       "0       1  female  29.0000      0      0       B5\n",
       "1       1    male   0.9167      1      2  C22 C26\n",
       "2       1  female   2.0000      1      2  C22 C26\n",
       "3       1    male  30.0000      1      2  C22 C26\n",
       "4       1  female  25.0000      1      2  C22 C26"
      ]
     },
     "execution_count": 7,
     "metadata": {},
     "output_type": "execute_result"
    }
   ],
   "source": [
    "# Imprima los primeros 5 valores de las caracteristicas\n",
    "\n",
    "caracteristicas.head()"
   ]
  },
  {
   "cell_type": "code",
   "execution_count": 8,
   "id": "d421419d-fa5b-4766-bcd2-1e04e607ff20",
   "metadata": {},
   "outputs": [
    {
     "data": {
      "text/plain": [
       "array([1, 1, 0, 0, 0], dtype=int64)"
      ]
     },
     "execution_count": 8,
     "metadata": {},
     "output_type": "execute_result"
    }
   ],
   "source": [
    "# Imprima los primeros 5 valores de las etiquetas\n",
    "etiquetas[0:5]"
   ]
  },
  {
   "cell_type": "code",
   "execution_count": 9,
   "id": "35605847-d0ed-4980-a426-9a88460701ad",
   "metadata": {},
   "outputs": [],
   "source": [
    "# Observe que los datos en las columnas sex y cabin son variables\n",
    "# categoricas nominales y por tanto debemos convertirlas a binarias para\n",
    "# que nuestro estimador pueda entenderlas.\n",
    "\n",
    "# Use el metodo get_dummies de Pandas para implementar el One-Hot Encoding\n",
    "\n",
    "caracteristicas_dummies = pd.get_dummies(caracteristicas, columns=['sex', 'cabin'])"
   ]
  },
  {
   "cell_type": "code",
   "execution_count": 10,
   "id": "d0d51c52-e2bf-423b-9c68-bc950a2e9306",
   "metadata": {},
   "outputs": [
    {
     "data": {
      "text/html": [
       "<div>\n",
       "<style scoped>\n",
       "    .dataframe tbody tr th:only-of-type {\n",
       "        vertical-align: middle;\n",
       "    }\n",
       "\n",
       "    .dataframe tbody tr th {\n",
       "        vertical-align: top;\n",
       "    }\n",
       "\n",
       "    .dataframe thead th {\n",
       "        text-align: right;\n",
       "    }\n",
       "</style>\n",
       "<table border=\"1\" class=\"dataframe\">\n",
       "  <thead>\n",
       "    <tr style=\"text-align: right;\">\n",
       "      <th></th>\n",
       "      <th>pclass</th>\n",
       "      <th>age</th>\n",
       "      <th>sibsp</th>\n",
       "      <th>parch</th>\n",
       "      <th>sex_female</th>\n",
       "      <th>sex_male</th>\n",
       "      <th>cabin_A10</th>\n",
       "      <th>cabin_A11</th>\n",
       "      <th>cabin_A14</th>\n",
       "      <th>cabin_A16</th>\n",
       "      <th>...</th>\n",
       "      <th>cabin_F E57</th>\n",
       "      <th>cabin_F E69</th>\n",
       "      <th>cabin_F G63</th>\n",
       "      <th>cabin_F G73</th>\n",
       "      <th>cabin_F2</th>\n",
       "      <th>cabin_F33</th>\n",
       "      <th>cabin_F38</th>\n",
       "      <th>cabin_F4</th>\n",
       "      <th>cabin_G6</th>\n",
       "      <th>cabin_T</th>\n",
       "    </tr>\n",
       "  </thead>\n",
       "  <tbody>\n",
       "    <tr>\n",
       "      <th>0</th>\n",
       "      <td>1</td>\n",
       "      <td>29.0000</td>\n",
       "      <td>0</td>\n",
       "      <td>0</td>\n",
       "      <td>1</td>\n",
       "      <td>0</td>\n",
       "      <td>0</td>\n",
       "      <td>0</td>\n",
       "      <td>0</td>\n",
       "      <td>0</td>\n",
       "      <td>...</td>\n",
       "      <td>0</td>\n",
       "      <td>0</td>\n",
       "      <td>0</td>\n",
       "      <td>0</td>\n",
       "      <td>0</td>\n",
       "      <td>0</td>\n",
       "      <td>0</td>\n",
       "      <td>0</td>\n",
       "      <td>0</td>\n",
       "      <td>0</td>\n",
       "    </tr>\n",
       "    <tr>\n",
       "      <th>1</th>\n",
       "      <td>1</td>\n",
       "      <td>0.9167</td>\n",
       "      <td>1</td>\n",
       "      <td>2</td>\n",
       "      <td>0</td>\n",
       "      <td>1</td>\n",
       "      <td>0</td>\n",
       "      <td>0</td>\n",
       "      <td>0</td>\n",
       "      <td>0</td>\n",
       "      <td>...</td>\n",
       "      <td>0</td>\n",
       "      <td>0</td>\n",
       "      <td>0</td>\n",
       "      <td>0</td>\n",
       "      <td>0</td>\n",
       "      <td>0</td>\n",
       "      <td>0</td>\n",
       "      <td>0</td>\n",
       "      <td>0</td>\n",
       "      <td>0</td>\n",
       "    </tr>\n",
       "    <tr>\n",
       "      <th>2</th>\n",
       "      <td>1</td>\n",
       "      <td>2.0000</td>\n",
       "      <td>1</td>\n",
       "      <td>2</td>\n",
       "      <td>1</td>\n",
       "      <td>0</td>\n",
       "      <td>0</td>\n",
       "      <td>0</td>\n",
       "      <td>0</td>\n",
       "      <td>0</td>\n",
       "      <td>...</td>\n",
       "      <td>0</td>\n",
       "      <td>0</td>\n",
       "      <td>0</td>\n",
       "      <td>0</td>\n",
       "      <td>0</td>\n",
       "      <td>0</td>\n",
       "      <td>0</td>\n",
       "      <td>0</td>\n",
       "      <td>0</td>\n",
       "      <td>0</td>\n",
       "    </tr>\n",
       "    <tr>\n",
       "      <th>3</th>\n",
       "      <td>1</td>\n",
       "      <td>30.0000</td>\n",
       "      <td>1</td>\n",
       "      <td>2</td>\n",
       "      <td>0</td>\n",
       "      <td>1</td>\n",
       "      <td>0</td>\n",
       "      <td>0</td>\n",
       "      <td>0</td>\n",
       "      <td>0</td>\n",
       "      <td>...</td>\n",
       "      <td>0</td>\n",
       "      <td>0</td>\n",
       "      <td>0</td>\n",
       "      <td>0</td>\n",
       "      <td>0</td>\n",
       "      <td>0</td>\n",
       "      <td>0</td>\n",
       "      <td>0</td>\n",
       "      <td>0</td>\n",
       "      <td>0</td>\n",
       "    </tr>\n",
       "    <tr>\n",
       "      <th>4</th>\n",
       "      <td>1</td>\n",
       "      <td>25.0000</td>\n",
       "      <td>1</td>\n",
       "      <td>2</td>\n",
       "      <td>1</td>\n",
       "      <td>0</td>\n",
       "      <td>0</td>\n",
       "      <td>0</td>\n",
       "      <td>0</td>\n",
       "      <td>0</td>\n",
       "      <td>...</td>\n",
       "      <td>0</td>\n",
       "      <td>0</td>\n",
       "      <td>0</td>\n",
       "      <td>0</td>\n",
       "      <td>0</td>\n",
       "      <td>0</td>\n",
       "      <td>0</td>\n",
       "      <td>0</td>\n",
       "      <td>0</td>\n",
       "      <td>0</td>\n",
       "    </tr>\n",
       "  </tbody>\n",
       "</table>\n",
       "<p>5 rows × 192 columns</p>\n",
       "</div>"
      ],
      "text/plain": [
       "   pclass      age  sibsp  parch  sex_female  sex_male  cabin_A10  cabin_A11  \\\n",
       "0       1  29.0000      0      0           1         0          0          0   \n",
       "1       1   0.9167      1      2           0         1          0          0   \n",
       "2       1   2.0000      1      2           1         0          0          0   \n",
       "3       1  30.0000      1      2           0         1          0          0   \n",
       "4       1  25.0000      1      2           1         0          0          0   \n",
       "\n",
       "   cabin_A14  cabin_A16  ...  cabin_F E57  cabin_F E69  cabin_F G63  \\\n",
       "0          0          0  ...            0            0            0   \n",
       "1          0          0  ...            0            0            0   \n",
       "2          0          0  ...            0            0            0   \n",
       "3          0          0  ...            0            0            0   \n",
       "4          0          0  ...            0            0            0   \n",
       "\n",
       "   cabin_F G73  cabin_F2  cabin_F33  cabin_F38  cabin_F4  cabin_G6  cabin_T  \n",
       "0            0         0          0          0         0         0        0  \n",
       "1            0         0          0          0         0         0        0  \n",
       "2            0         0          0          0         0         0        0  \n",
       "3            0         0          0          0         0         0        0  \n",
       "4            0         0          0          0         0         0        0  \n",
       "\n",
       "[5 rows x 192 columns]"
      ]
     },
     "execution_count": 10,
     "metadata": {},
     "output_type": "execute_result"
    }
   ],
   "source": [
    "# Imprima los primeros 5 datos del nuevo Dataframe\n",
    "\n",
    "caracteristicas_dummies.head()"
   ]
  },
  {
   "cell_type": "code",
   "execution_count": 11,
   "id": "d06e62f5-fa64-424f-99b3-55f1de02484c",
   "metadata": {},
   "outputs": [],
   "source": [
    "# Observe que se han generado 192 caracteristicas en donde su gran mayoria se dede a la cabina\n",
    "# en donde estaba asignado el pasajero. Por otra parte, en el ejemplo del Caso de Uso se tomo\n",
    "# la columna pclass como una Variable Categorica Nominal, lo qe implica que la clase no tiene un orden\n",
    "# o prioridad, pero este es realmente el caso? supongamos que los pasajeros de primera\n",
    "# clase tuvieron mayor opcion de subir a los botes que los de otras categorias, por lo cual\n",
    "# se dejara esta como una caracterisitca categorica ordinal.\n",
    "\n",
    "# Convierta el dataframe anterior a un array Numpy para poder ingresarlo al estimador.\n",
    "\n",
    "data = caracteristicas_dummies.values"
   ]
  },
  {
   "cell_type": "code",
   "execution_count": 12,
   "id": "5caa7e90-33cc-4afc-a81a-6fa90721c150",
   "metadata": {},
   "outputs": [
    {
     "name": "stdout",
     "output_type": "stream",
     "text": [
      "[[ 1.     29.      0.      0.      1.      0.      0.      0.      0.\n",
      "   0.      0.      0.      0.      0.      0.      0.      0.      0.\n",
      "   0.      0.      0.      0.      0.      0.      0.      0.      0.\n",
      "   0.      0.      0.      0.      0.      0.      0.      0.      0.\n",
      "   0.      0.      0.      0.      0.      0.      0.      0.      0.\n",
      "   0.      0.      0.      0.      1.      0.      0.      0.      0.\n",
      "   0.      0.      0.      0.      0.      0.      0.      0.      0.\n",
      "   0.      0.      0.      0.      0.      0.      0.      0.      0.\n",
      "   0.      0.      0.      0.      0.      0.      0.      0.      0.\n",
      "   0.      0.      0.      0.      0.      0.      0.      0.      0.\n",
      "   0.      0.      0.      0.      0.      0.      0.      0.      0.\n",
      "   0.      0.      0.      0.      0.      0.      0.      0.      0.\n",
      "   0.      0.      0.      0.      0.      0.      0.      0.      0.\n",
      "   0.      0.      0.      0.      0.      0.      0.      0.      0.\n",
      "   0.      0.      0.      0.      0.      0.      0.      0.      0.\n",
      "   0.      0.      0.      0.      0.      0.      0.      0.      0.\n",
      "   0.      0.      0.      0.      0.      0.      0.      0.      0.\n",
      "   0.      0.      0.      0.      0.      0.      0.      0.      0.\n",
      "   0.      0.      0.      0.      0.      0.      0.      0.      0.\n",
      "   0.      0.      0.      0.      0.      0.      0.      0.      0.\n",
      "   0.      0.      0.      0.      0.      0.      0.      0.      0.\n",
      "   0.      0.      0.    ]\n",
      " [ 1.      0.9167  1.      2.      0.      1.      0.      0.      0.\n",
      "   0.      0.      0.      0.      0.      0.      0.      0.      0.\n",
      "   0.      0.      0.      0.      0.      0.      0.      0.      0.\n",
      "   0.      0.      0.      0.      0.      0.      0.      0.      0.\n",
      "   0.      0.      0.      0.      0.      0.      0.      0.      0.\n",
      "   0.      0.      0.      0.      0.      0.      0.      0.      0.\n",
      "   0.      0.      0.      0.      0.      0.      0.      0.      0.\n",
      "   0.      0.      0.      0.      0.      0.      0.      0.      0.\n",
      "   0.      0.      0.      0.      0.      0.      0.      0.      0.\n",
      "   0.      0.      0.      0.      1.      0.      0.      0.      0.\n",
      "   0.      0.      0.      0.      0.      0.      0.      0.      0.\n",
      "   0.      0.      0.      0.      0.      0.      0.      0.      0.\n",
      "   0.      0.      0.      0.      0.      0.      0.      0.      0.\n",
      "   0.      0.      0.      0.      0.      0.      0.      0.      0.\n",
      "   0.      0.      0.      0.      0.      0.      0.      0.      0.\n",
      "   0.      0.      0.      0.      0.      0.      0.      0.      0.\n",
      "   0.      0.      0.      0.      0.      0.      0.      0.      0.\n",
      "   0.      0.      0.      0.      0.      0.      0.      0.      0.\n",
      "   0.      0.      0.      0.      0.      0.      0.      0.      0.\n",
      "   0.      0.      0.      0.      0.      0.      0.      0.      0.\n",
      "   0.      0.      0.      0.      0.      0.      0.      0.      0.\n",
      "   0.      0.      0.    ]]\n"
     ]
    }
   ],
   "source": [
    "# Compruebe las primeras 2 filas del array\n",
    "# Recuerde que tambien puede trabajar con matrices dispersas de scipy\n",
    "\n",
    "print(data[0:2, :])"
   ]
  },
  {
   "cell_type": "code",
   "execution_count": 13,
   "id": "ef53d25e-5c6f-4fe4-85b5-9ceb1182953c",
   "metadata": {},
   "outputs": [
    {
     "data": {
      "text/plain": [
       "True"
      ]
     },
     "execution_count": 13,
     "metadata": {},
     "output_type": "execute_result"
    }
   ],
   "source": [
    "# Un paso importante en la limpieza de los datos es verificar que no se presenten NaN\n",
    "# Esto por valores perdidos al momento de leer los datos.\n",
    "\n",
    "# Compruebe valores perdidos.\n",
    "\n",
    "import numpy as np\n",
    "np.isnan(data).any()"
   ]
  },
  {
   "cell_type": "code",
   "execution_count": 14,
   "id": "595f0392-74ef-4cd9-8f73-35a511d7d3ac",
   "metadata": {},
   "outputs": [],
   "source": [
    "#  Si el resultado es True debe corregirlos mediante SimpleImputer o \n",
    "# algun otro metetodo que le parezca razonable.\n",
    "# No olvide que es recomendable entrenar el estimador con los datos de train despues de\n",
    "# dividir el dataset en Train y Test.\n",
    "\n",
    "# Divida el dataset en Train y Test de forma estratificada\n",
    "\n",
    "from sklearn.model_selection import train_test_split\n",
    "\n",
    "train_data, test_data, train_labels, test_labels = train_test_split(data,\n",
    "                                                                    etiquetas, \n",
    "                                                                    random_state=0,\n",
    "                                                                    stratify=etiquetas)"
   ]
  },
  {
   "cell_type": "code",
   "execution_count": 15,
   "id": "76f76b51-39f3-4eb9-96b2-09c58975a8e1",
   "metadata": {},
   "outputs": [],
   "source": [
    "# Use SimpleImputer para corregir los datos Nan\n",
    "\n",
    "from sklearn.impute import SimpleImputer\n",
    "\n",
    "imp = SimpleImputer()\n",
    "imp.fit(train_data)\n",
    "train_data_finite = imp.transform(train_data)\n",
    "test_data_finite = imp.transform(test_data)"
   ]
  },
  {
   "cell_type": "code",
   "execution_count": 16,
   "id": "0158d1a1-8a11-4aa2-815f-d3a65a50ba26",
   "metadata": {},
   "outputs": [
    {
     "data": {
      "text/plain": [
       "False"
      ]
     },
     "execution_count": 16,
     "metadata": {},
     "output_type": "execute_result"
    }
   ],
   "source": [
    "# Verifique nuevamente el dataset en busqueda de valores Nan\n",
    "# Train Data\n",
    "np.isnan(train_data_finite).any()"
   ]
  },
  {
   "cell_type": "code",
   "execution_count": 17,
   "id": "84cca212-2aad-4041-b0e2-8d614e6bf1fc",
   "metadata": {},
   "outputs": [
    {
     "data": {
      "text/plain": [
       "False"
      ]
     },
     "execution_count": 17,
     "metadata": {},
     "output_type": "execute_result"
    }
   ],
   "source": [
    "# Test Data\n",
    "np.isnan(test_data_finite).any()"
   ]
  },
  {
   "cell_type": "code",
   "execution_count": 18,
   "id": "676552db-15d1-4da8-8c02-cee95f930b16",
   "metadata": {},
   "outputs": [],
   "source": [
    "# Con esto hemos preparado nuestro dataset para entrenar a nuestro estimador.\n",
    "# Use RandomForestClassifier para crear el modelo de sobrevivencia del Titanic.\n",
    "\n",
    "from sklearn.ensemble import RandomForestClassifier"
   ]
  },
  {
   "cell_type": "code",
   "execution_count": 19,
   "id": "3a2e53c0-2760-4d1e-b8f3-8e83131fc581",
   "metadata": {},
   "outputs": [],
   "source": [
    "# Genere la curva de validacion de RandomForestClassifier con el hiperparametro max_depth\n",
    "# y para el cross validacion (Fold) que usted selecciono.\n",
    "\n",
    "# Es muy MPORTANTE que tenga presente que para la curva de validacion se debe usar el dataset\n",
    "# completo, sin embargo, tenemos datos NaN. Antes de realizar la curva de validacion \n",
    "# debe crear un nuevo SimpleImputer y tranformar los datos en un nuevo numpy array con esto corregido\n",
    "\n",
    "from sklearn.model_selection import KFold, StratifiedKFold, ShuffleSplit\n",
    "from sklearn.model_selection import validation_curve\n",
    "from sklearn.impute import SimpleImputer\n",
    "\n",
    "imp_aux = SimpleImputer()\n",
    "imp_aux.fit(data)\n",
    "data_aux = imp_aux.transform(data)\n",
    "\n",
    "crossVal = StratifiedKFold(n_splits=10)\n",
    "max_depth = [1, 3, 5, 10]\n",
    "\n",
    "train_scores, test_scores = validation_curve(RandomForestClassifier(), data_aux, etiquetas, \n",
    "                                             param_name=\"max_depth\", \n",
    "                                             param_range=max_depth, \n",
    "                                             cv=crossVal)"
   ]
  },
  {
   "cell_type": "code",
   "execution_count": 20,
   "id": "6bdcf5e0-b6c0-40ad-986a-90693ad070a6",
   "metadata": {},
   "outputs": [
    {
     "data": {
      "image/png": "[encoded data removed]",
      "text/plain": [
       "<Figure size 640x480 with 1 Axes>"
      ]
     },
     "metadata": {},
     "output_type": "display_data"
    }
   ],
   "source": [
    "%matplotlib inline\n",
    "import matplotlib.pyplot as plt\n",
    "\n",
    "plt.plot(max_depth, train_scores.mean(axis=1), 'b', label=\"precisión de entrenamiento\")\n",
    "plt.plot(max_depth, test_scores.mean(axis=1), 'g', label=\"precisión de test\")\n",
    "plt.ylabel('Precisión')\n",
    "plt.xlabel('Profundidad del Bosque')\n",
    "plt.xlim([0, 10])\n",
    "plt.legend(loc=\"best\");"
   ]
  },
  {
   "cell_type": "code",
   "execution_count": 21,
   "id": "43c33da7-1142-412b-945b-bf9061577c72",
   "metadata": {},
   "outputs": [
    {
     "name": "stdout",
     "output_type": "stream",
     "text": [
      "Fitting 10 folds for each of 12 candidates, totalling 120 fits\n",
      "[CV 1/10] END ......max_depth=5, n_estimators=5;, score=0.758 total time=   0.0s\n",
      "[CV 2/10] END ......max_depth=5, n_estimators=5;, score=0.808 total time=   0.0s\n",
      "[CV 3/10] END ......max_depth=5, n_estimators=5;, score=0.879 total time=   0.0s\n",
      "[CV 4/10] END ......max_depth=5, n_estimators=5;, score=0.798 total time=   0.0s\n",
      "[CV 5/10] END ......max_depth=5, n_estimators=5;, score=0.768 total time=   0.0s\n",
      "[CV 6/10] END ......max_depth=5, n_estimators=5;, score=0.848 total time=   0.0s\n",
      "[CV 7/10] END ......max_depth=5, n_estimators=5;, score=0.768 total time=   0.0s\n",
      "[CV 8/10] END ......max_depth=5, n_estimators=5;, score=0.717 total time=   0.0s\n",
      "[CV 9/10] END ......max_depth=5, n_estimators=5;, score=0.818 total time=   0.0s\n",
      "[CV 10/10] END .....max_depth=5, n_estimators=5;, score=0.636 total time=   0.0s\n",
      "[CV 1/10] END .....max_depth=5, n_estimators=10;, score=0.758 total time=   0.0s\n",
      "[CV 2/10] END .....max_depth=5, n_estimators=10;, score=0.808 total time=   0.0s\n",
      "[CV 3/10] END .....max_depth=5, n_estimators=10;, score=0.879 total time=   0.0s\n",
      "[CV 4/10] END .....max_depth=5, n_estimators=10;, score=0.848 total time=   0.0s\n",
      "[CV 5/10] END .....max_depth=5, n_estimators=10;, score=0.778 total time=   0.0s\n",
      "[CV 6/10] END .....max_depth=5, n_estimators=10;, score=0.859 total time=   0.0s\n",
      "[CV 7/10] END .....max_depth=5, n_estimators=10;, score=0.727 total time=   0.0s\n",
      "[CV 8/10] END .....max_depth=5, n_estimators=10;, score=0.808 total time=   0.0s\n",
      "[CV 9/10] END .....max_depth=5, n_estimators=10;, score=0.747 total time=   0.0s\n",
      "[CV 10/10] END ....max_depth=5, n_estimators=10;, score=0.798 total time=   0.0s\n",
      "[CV 1/10] END .....max_depth=5, n_estimators=25;, score=0.758 total time=   0.0s\n",
      "[CV 2/10] END .....max_depth=5, n_estimators=25;, score=0.808 total time=   0.0s\n",
      "[CV 3/10] END .....max_depth=5, n_estimators=25;, score=0.828 total time=   0.0s\n",
      "[CV 4/10] END .....max_depth=5, n_estimators=25;, score=0.869 total time=   0.0s\n",
      "[CV 5/10] END .....max_depth=5, n_estimators=25;, score=0.798 total time=   0.0s\n",
      "[CV 6/10] END .....max_depth=5, n_estimators=25;, score=0.859 total time=   0.0s\n",
      "[CV 7/10] END .....max_depth=5, n_estimators=25;, score=0.778 total time=   0.0s\n",
      "[CV 8/10] END .....max_depth=5, n_estimators=25;, score=0.758 total time=   0.0s\n",
      "[CV 9/10] END .....max_depth=5, n_estimators=25;, score=0.788 total time=   0.0s\n",
      "[CV 10/10] END ....max_depth=5, n_estimators=25;, score=0.859 total time=   0.0s\n",
      "[CV 1/10] END ......max_depth=6, n_estimators=5;, score=0.758 total time=   0.0s\n",
      "[CV 2/10] END ......max_depth=6, n_estimators=5;, score=0.798 total time=   0.0s\n",
      "[CV 3/10] END ......max_depth=6, n_estimators=5;, score=0.828 total time=   0.0s\n",
      "[CV 4/10] END ......max_depth=6, n_estimators=5;, score=0.848 total time=   0.0s\n",
      "[CV 5/10] END ......max_depth=6, n_estimators=5;, score=0.798 total time=   0.0s\n",
      "[CV 6/10] END ......max_depth=6, n_estimators=5;, score=0.838 total time=   0.0s\n",
      "[CV 7/10] END ......max_depth=6, n_estimators=5;, score=0.788 total time=   0.0s\n",
      "[CV 8/10] END ......max_depth=6, n_estimators=5;, score=0.798 total time=   0.0s\n",
      "[CV 9/10] END ......max_depth=6, n_estimators=5;, score=0.788 total time=   0.0s\n",
      "[CV 10/10] END .....max_depth=6, n_estimators=5;, score=0.717 total time=   0.0s\n",
      "[CV 1/10] END .....max_depth=6, n_estimators=10;, score=0.788 total time=   0.0s\n",
      "[CV 2/10] END .....max_depth=6, n_estimators=10;, score=0.828 total time=   0.0s\n",
      "[CV 3/10] END .....max_depth=6, n_estimators=10;, score=0.869 total time=   0.0s\n",
      "[CV 4/10] END .....max_depth=6, n_estimators=10;, score=0.859 total time=   0.0s\n",
      "[CV 5/10] END .....max_depth=6, n_estimators=10;, score=0.768 total time=   0.0s\n",
      "[CV 6/10] END .....max_depth=6, n_estimators=10;, score=0.818 total time=   0.0s\n",
      "[CV 7/10] END .....max_depth=6, n_estimators=10;, score=0.798 total time=   0.0s\n",
      "[CV 8/10] END .....max_depth=6, n_estimators=10;, score=0.768 total time=   0.0s\n",
      "[CV 9/10] END .....max_depth=6, n_estimators=10;, score=0.778 total time=   0.0s\n",
      "[CV 10/10] END ....max_depth=6, n_estimators=10;, score=0.788 total time=   0.0s\n",
      "[CV 1/10] END .....max_depth=6, n_estimators=25;, score=0.768 total time=   0.0s\n",
      "[CV 2/10] END .....max_depth=6, n_estimators=25;, score=0.828 total time=   0.0s\n",
      "[CV 3/10] END .....max_depth=6, n_estimators=25;, score=0.879 total time=   0.0s\n",
      "[CV 4/10] END .....max_depth=6, n_estimators=25;, score=0.838 total time=   0.0s\n",
      "[CV 5/10] END .....max_depth=6, n_estimators=25;, score=0.808 total time=   0.0s\n",
      "[CV 6/10] END .....max_depth=6, n_estimators=25;, score=0.859 total time=   0.0s\n",
      "[CV 7/10] END .....max_depth=6, n_estimators=25;, score=0.788 total time=   0.0s\n",
      "[CV 8/10] END .....max_depth=6, n_estimators=25;, score=0.768 total time=   0.0s\n",
      "[CV 9/10] END .....max_depth=6, n_estimators=25;, score=0.778 total time=   0.0s\n",
      "[CV 10/10] END ....max_depth=6, n_estimators=25;, score=0.838 total time=   0.0s\n",
      "[CV 1/10] END ......max_depth=8, n_estimators=5;, score=0.808 total time=   0.0s\n",
      "[CV 2/10] END ......max_depth=8, n_estimators=5;, score=0.838 total time=   0.0s\n",
      "[CV 3/10] END ......max_depth=8, n_estimators=5;, score=0.828 total time=   0.0s\n",
      "[CV 4/10] END ......max_depth=8, n_estimators=5;, score=0.869 total time=   0.0s\n",
      "[CV 5/10] END ......max_depth=8, n_estimators=5;, score=0.798 total time=   0.0s\n",
      "[CV 6/10] END ......max_depth=8, n_estimators=5;, score=0.848 total time=   0.0s\n",
      "[CV 7/10] END ......max_depth=8, n_estimators=5;, score=0.798 total time=   0.0s\n",
      "[CV 8/10] END ......max_depth=8, n_estimators=5;, score=0.727 total time=   0.0s\n",
      "[CV 9/10] END ......max_depth=8, n_estimators=5;, score=0.788 total time=   0.0s\n",
      "[CV 10/10] END .....max_depth=8, n_estimators=5;, score=0.838 total time=   0.0s\n",
      "[CV 1/10] END .....max_depth=8, n_estimators=10;, score=0.828 total time=   0.0s\n",
      "[CV 2/10] END .....max_depth=8, n_estimators=10;, score=0.859 total time=   0.0s\n",
      "[CV 3/10] END .....max_depth=8, n_estimators=10;, score=0.818 total time=   0.0s\n",
      "[CV 4/10] END .....max_depth=8, n_estimators=10;, score=0.848 total time=   0.0s\n",
      "[CV 5/10] END .....max_depth=8, n_estimators=10;, score=0.788 total time=   0.0s\n",
      "[CV 6/10] END .....max_depth=8, n_estimators=10;, score=0.869 total time=   0.0s\n",
      "[CV 7/10] END .....max_depth=8, n_estimators=10;, score=0.747 total time=   0.0s\n",
      "[CV 8/10] END .....max_depth=8, n_estimators=10;, score=0.758 total time=   0.0s\n",
      "[CV 9/10] END .....max_depth=8, n_estimators=10;, score=0.788 total time=   0.0s\n",
      "[CV 10/10] END ....max_depth=8, n_estimators=10;, score=0.869 total time=   0.0s\n",
      "[CV 1/10] END .....max_depth=8, n_estimators=25;, score=0.798 total time=   0.0s\n",
      "[CV 2/10] END .....max_depth=8, n_estimators=25;, score=0.808 total time=   0.0s\n",
      "[CV 3/10] END .....max_depth=8, n_estimators=25;, score=0.838 total time=   0.0s\n",
      "[CV 4/10] END .....max_depth=8, n_estimators=25;, score=0.859 total time=   0.0s\n",
      "[CV 5/10] END .....max_depth=8, n_estimators=25;, score=0.818 total time=   0.0s\n",
      "[CV 6/10] END .....max_depth=8, n_estimators=25;, score=0.869 total time=   0.0s\n",
      "[CV 7/10] END .....max_depth=8, n_estimators=25;, score=0.798 total time=   0.0s\n",
      "[CV 8/10] END .....max_depth=8, n_estimators=25;, score=0.737 total time=   0.0s\n",
      "[CV 9/10] END .....max_depth=8, n_estimators=25;, score=0.778 total time=   0.0s\n",
      "[CV 10/10] END ....max_depth=8, n_estimators=25;, score=0.838 total time=   0.0s\n",
      "[CV 1/10] END .....max_depth=10, n_estimators=5;, score=0.828 total time=   0.0s\n",
      "[CV 2/10] END .....max_depth=10, n_estimators=5;, score=0.838 total time=   0.0s\n",
      "[CV 3/10] END .....max_depth=10, n_estimators=5;, score=0.818 total time=   0.0s\n",
      "[CV 4/10] END .....max_depth=10, n_estimators=5;, score=0.838 total time=   0.0s\n",
      "[CV 5/10] END .....max_depth=10, n_estimators=5;, score=0.828 total time=   0.0s\n",
      "[CV 6/10] END .....max_depth=10, n_estimators=5;, score=0.869 total time=   0.0s\n",
      "[CV 7/10] END .....max_depth=10, n_estimators=5;, score=0.828 total time=   0.0s\n",
      "[CV 8/10] END .....max_depth=10, n_estimators=5;, score=0.747 total time=   0.0s\n",
      "[CV 9/10] END .....max_depth=10, n_estimators=5;, score=0.788 total time=   0.0s\n",
      "[CV 10/10] END ....max_depth=10, n_estimators=5;, score=0.798 total time=   0.0s\n",
      "[CV 1/10] END ....max_depth=10, n_estimators=10;, score=0.828 total time=   0.0s\n",
      "[CV 2/10] END ....max_depth=10, n_estimators=10;, score=0.838 total time=   0.0s\n",
      "[CV 3/10] END ....max_depth=10, n_estimators=10;, score=0.848 total time=   0.0s\n",
      "[CV 4/10] END ....max_depth=10, n_estimators=10;, score=0.828 total time=   0.0s\n",
      "[CV 5/10] END ....max_depth=10, n_estimators=10;, score=0.778 total time=   0.0s\n",
      "[CV 6/10] END ....max_depth=10, n_estimators=10;, score=0.869 total time=   0.0s\n",
      "[CV 7/10] END ....max_depth=10, n_estimators=10;, score=0.808 total time=   0.0s\n",
      "[CV 8/10] END ....max_depth=10, n_estimators=10;, score=0.768 total time=   0.0s\n",
      "[CV 9/10] END ....max_depth=10, n_estimators=10;, score=0.788 total time=   0.0s\n",
      "[CV 10/10] END ...max_depth=10, n_estimators=10;, score=0.859 total time=   0.0s\n",
      "[CV 1/10] END ....max_depth=10, n_estimators=25;, score=0.808 total time=   0.0s\n",
      "[CV 2/10] END ....max_depth=10, n_estimators=25;, score=0.828 total time=   0.0s\n",
      "[CV 3/10] END ....max_depth=10, n_estimators=25;, score=0.828 total time=   0.0s\n",
      "[CV 4/10] END ....max_depth=10, n_estimators=25;, score=0.859 total time=   0.0s\n",
      "[CV 5/10] END ....max_depth=10, n_estimators=25;, score=0.818 total time=   0.0s\n",
      "[CV 6/10] END ....max_depth=10, n_estimators=25;, score=0.859 total time=   0.0s\n",
      "[CV 7/10] END ....max_depth=10, n_estimators=25;, score=0.808 total time=   0.0s\n",
      "[CV 8/10] END ....max_depth=10, n_estimators=25;, score=0.778 total time=   0.0s\n",
      "[CV 9/10] END ....max_depth=10, n_estimators=25;, score=0.788 total time=   0.0s\n",
      "[CV 10/10] END ...max_depth=10, n_estimators=25;, score=0.848 total time=   0.0s\n"
     ]
    },
    {
     "data": {
      "text/plain": [
       "0.8262195121951219"
      ]
     },
     "execution_count": 21,
     "metadata": {},
     "output_type": "execute_result"
    }
   ],
   "source": [
    "# Observe que la curva nos muestra un punto en donde nuestra precision de test y entrenamiento se \n",
    "# estabiliza.\n",
    "\n",
    "# Entrene el modelo usando Validacion Cruzada y GridSearch. \n",
    "# Seleccione el mejor Fold según su criterio.\n",
    "\n",
    "# Busque los mejores hiperparametros para \n",
    "# RandomForestClassifier\n",
    "# Hiperparametros\n",
    "#       max_depth\n",
    "#       n_estimators\n",
    "\n",
    "from sklearn.model_selection import GridSearchCV\n",
    "\n",
    "crossVal = ShuffleSplit(n_splits=10)\n",
    "\n",
    "param_grid = {'max_depth': [5, 6, 8, 10], 'n_estimators': [5, 10, 25]}\n",
    "grid = GridSearchCV(RandomForestClassifier(), param_grid=param_grid, cv=crossVal, verbose=3)\n",
    "grid.fit(train_data_finite, train_labels)\n",
    "grid.score(test_data_finite, test_labels)"
   ]
  },
  {
   "cell_type": "code",
   "execution_count": 22,
   "id": "2a483eb5-1da8-40c0-a7e3-85cbe1f0b6af",
   "metadata": {},
   "outputs": [
    {
     "name": "stdout",
     "output_type": "stream",
     "text": [
      "0.8222222222222223\n",
      "{'max_depth': 10, 'n_estimators': 25}\n"
     ]
    }
   ],
   "source": [
    "# Muestre los mejores valores obtenidos en la busqueda de GridSearchCV\n",
    "\n",
    "print(grid.best_score_)\n",
    "print(grid.best_params_)"
   ]
  },
  {
   "cell_type": "markdown",
   "id": "d1d4b8f7-7559-4dc0-8928-124030c73d8e",
   "metadata": {},
   "source": [
    "<div class=\"alert alert-danger\">\n",
    "    En comparación con los resultados presentados en el Notebook 7 se han presentado mejoras en la predicción. Investigue otros hiperparametros y agreguelos en la busqueda de GridSearchCV. Pruebe con otros Folds en busqueda de mejorar el rendimiento del modelo.\n",
    "</div>"
   ]
  },
  {
   "cell_type": "markdown",
   "id": "3b02bab5-04f8-4e2d-89fc-bf63cc3481ef",
   "metadata": {},
   "source": [
    "## Machine Learning - Aprendizaje Supervisado\n",
    "### Regresion\n",
    "\n",
    "Apoyese en el Notebook **5. Apredizaje Supervizado 2**.\n",
    "\n",
    "Se creará un modelo de predicción del valor medio de las casas en Califonornia."
   ]
  },
  {
   "cell_type": "code",
   "execution_count": 23,
   "id": "fc35799c-56b6-4e2d-bda1-05fada2965a6",
   "metadata": {},
   "outputs": [],
   "source": [
    "# Use el dataset California Housing\n",
    "# https://scikit-learn.org/stable/modules/generated/sklearn.datasets.fetch_california_housing.html#sklearn.datasets.fetch_california_housing\n",
    "\n",
    "from sklearn.datasets import fetch_california_housing\n",
    "\n",
    "housing = fetch_california_housing()"
   ]
  },
  {
   "cell_type": "code",
   "execution_count": 24,
   "id": "05328ae5-76af-47d8-a37d-94efd48567c8",
   "metadata": {},
   "outputs": [
    {
     "data": {
      "text/plain": [
       "dict_keys(['data', 'target', 'frame', 'target_names', 'feature_names', 'DESCR'])"
      ]
     },
     "execution_count": 24,
     "metadata": {},
     "output_type": "execute_result"
    }
   ],
   "source": [
    "# Revise los keys del dataset\n",
    "\n",
    "housing.keys()"
   ]
  },
  {
   "cell_type": "code",
   "execution_count": 25,
   "id": "159b0406-3f5a-4573-b04e-4d353f748c12",
   "metadata": {},
   "outputs": [],
   "source": [
    "# Cree la matriz de caracteristicas y el vector de etiquetas\n",
    "\n",
    "data, etiquetas = housing.data, housing.target"
   ]
  },
  {
   "cell_type": "code",
   "execution_count": 26,
   "id": "81bb54df-9793-48d8-915e-531a6ba0a822",
   "metadata": {},
   "outputs": [
    {
     "name": "stdout",
     "output_type": "stream",
     "text": [
      "['MedInc', 'HouseAge', 'AveRooms', 'AveBedrms', 'Population', 'AveOccup', 'Latitude', 'Longitude']\n",
      "['MedHouseVal']\n"
     ]
    }
   ],
   "source": [
    "# Revice los nombre de las caracterisiticas y de la etiqueta\n",
    "print(housing.feature_names)\n",
    "print(housing.target_names)"
   ]
  },
  {
   "cell_type": "code",
   "execution_count": 27,
   "id": "b77bc78d-2d67-4f92-a933-558330bf2fe4",
   "metadata": {},
   "outputs": [],
   "source": [
    "# Cree los conjuntos de Train y Test. Recuerde que estamos trabajando con regresion\n",
    "# por lo tanto, no se usa particion estratificada (No hay clases)\n",
    "\n",
    "from sklearn.model_selection import train_test_split\n",
    "\n",
    "X_train, X_test, y_train, y_test = train_test_split(data, etiquetas, \n",
    "                                                    test_size=0.25, \n",
    "                                                    random_state=34)"
   ]
  },
  {
   "cell_type": "code",
   "execution_count": 28,
   "id": "6e89339d-be74-44c1-b359-25397e228f09",
   "metadata": {},
   "outputs": [],
   "source": [
    "# Use cualquiera de estos dos estimadores para crear el modelo\n",
    "# Pruebe con cual obtiene mejores resultados\n",
    "#    LinearRegression\n",
    "#    KNeighborsRegressor\n",
    "#    RandomForestRegressor\n",
    "\n",
    "from sklearn.ensemble import RandomForestRegressor"
   ]
  },
  {
   "cell_type": "code",
   "execution_count": 30,
   "id": "52608318-9969-46cc-a980-fc9ca56c674b",
   "metadata": {},
   "outputs": [
    {
     "name": "stdout",
     "output_type": "stream",
     "text": [
      "Fitting 5 folds for each of 4 candidates, totalling 20 fits\n",
      "[CV 1/5] END .....max_depth=30, n_estimators=10;, score=0.781 total time=   1.5s\n",
      "[CV 2/5] END .....max_depth=30, n_estimators=10;, score=0.750 total time=   1.5s\n",
      "[CV 3/5] END .....max_depth=30, n_estimators=10;, score=0.777 total time=   1.5s\n",
      "[CV 4/5] END .....max_depth=30, n_estimators=10;, score=0.802 total time=   1.5s\n",
      "[CV 5/5] END .....max_depth=30, n_estimators=10;, score=0.761 total time=   1.5s\n",
      "[CV 1/5] END .....max_depth=30, n_estimators=50;, score=0.806 total time=   7.7s\n",
      "[CV 2/5] END .....max_depth=30, n_estimators=50;, score=0.768 total time=   7.7s\n",
      "[CV 3/5] END .....max_depth=30, n_estimators=50;, score=0.782 total time=   7.7s\n",
      "[CV 4/5] END .....max_depth=30, n_estimators=50;, score=0.816 total time=   7.7s\n",
      "[CV 5/5] END .....max_depth=30, n_estimators=50;, score=0.771 total time=   7.7s\n",
      "[CV 1/5] END .....max_depth=40, n_estimators=10;, score=0.786 total time=   1.5s\n",
      "[CV 2/5] END .....max_depth=40, n_estimators=10;, score=0.749 total time=   1.5s\n",
      "[CV 3/5] END .....max_depth=40, n_estimators=10;, score=0.765 total time=   1.4s\n",
      "[CV 4/5] END .....max_depth=40, n_estimators=10;, score=0.799 total time=   1.5s\n",
      "[CV 5/5] END .....max_depth=40, n_estimators=10;, score=0.757 total time=   1.5s\n",
      "[CV 1/5] END .....max_depth=40, n_estimators=50;, score=0.808 total time=   7.7s\n",
      "[CV 2/5] END .....max_depth=40, n_estimators=50;, score=0.765 total time=   7.7s\n",
      "[CV 3/5] END .....max_depth=40, n_estimators=50;, score=0.782 total time=   7.7s\n",
      "[CV 4/5] END .....max_depth=40, n_estimators=50;, score=0.810 total time=   7.7s\n",
      "[CV 5/5] END .....max_depth=40, n_estimators=50;, score=0.775 total time=   7.7s\n"
     ]
    },
    {
     "data": {
      "text/plain": [
       "0.8180344822110407"
      ]
     },
     "execution_count": 30,
     "metadata": {},
     "output_type": "execute_result"
    }
   ],
   "source": [
    "# Implemente una busqueda de hiperparametros con validacion cruzada para este dataset\n",
    "# Recuerde buscar el mejor Fold\n",
    "# La configuracion de busqueda de hiperparametros que elija puede llevar a tiempos de ejecucion\n",
    "# basstante grandes.\n",
    "\n",
    "from sklearn.model_selection import ShuffleSplit\n",
    "\n",
    "crossVal = ShuffleSplit(n_splits=5)\n",
    "\n",
    "param_grid = {'n_estimators': [10, 50], 'max_depth': [30, 40]}\n",
    "grid = GridSearchCV(RandomForestRegressor(), param_grid=param_grid, cv=crossVal, verbose=3)\n",
    "grid.fit(X_train, y_train)\n",
    "grid.score(X_test, y_test)"
   ]
  },
  {
   "cell_type": "code",
   "execution_count": 31,
   "id": "e3e5d16a-001d-400a-8a6c-86aa694e3aca",
   "metadata": {},
   "outputs": [
    {
     "name": "stdout",
     "output_type": "stream",
     "text": [
      "0.7883782350282378\n",
      "{'max_depth': 30, 'n_estimators': 50}\n"
     ]
    }
   ],
   "source": [
    "# Muestre nuevamente el mejor score y los mejores parametros\n",
    "\n",
    "print(grid.best_score_)\n",
    "print(grid.best_params_)"
   ]
  }
 ],
 "metadata": {
  "kernelspec": {
   "display_name": "Python 3 (ipykernel)",
   "language": "python",
   "name": "python3"
  },
  "language_info": {
   "codemirror_mode": {
    "name": "ipython",
    "version": 3
   },
   "file_extension": ".py",
   "mimetype": "text/x-python",
   "name": "python",
   "nbconvert_exporter": "python",
   "pygments_lexer": "ipython3",
   "version": "3.9.16"
  }
 },
 "nbformat": 4,
 "nbformat_minor": 5
}
