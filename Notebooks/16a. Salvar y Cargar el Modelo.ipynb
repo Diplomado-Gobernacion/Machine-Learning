{
 "cells": [
  {
   "cell_type": "markdown",
   "id": "c35408da-32b2-4b78-9144-15369517dec6",
   "metadata": {},
   "source": [
    "# Salvar y Cargar el Modelo\n",
    "\n",
    "La biblioteca **pickle** es un paquete estándar de Python: no necesita instalar nada adicional. Se puede usar para guardar y cargar cualquier objeto de Python en el disco.\n",
    "\n",
    "Aquí hay un fragmento de Python que muestra cómo guardar y cargar el modelo scikit-learn:"
   ]
  },
  {
   "cell_type": "code",
   "execution_count": 1,
   "id": "08ce075c-0018-47f1-9a70-6b35e6127664",
   "metadata": {},
   "outputs": [],
   "source": [
    "from sklearn.datasets import load_iris\n",
    "from sklearn.ensemble import RandomForestClassifier\n",
    "\n",
    "# library for save and load scikit-learn models\n",
    "import pickle\n",
    "\n",
    "# load example data from sklearn\n",
    "X, y = load_iris(return_X_y=True)\n",
    "\n",
    "# create Random Forest Classifier\n",
    "rf = RandomForestClassifier()\n",
    "\n",
    "# fit model with all data - it is just example!\n",
    "rf.fit(X, y)\n",
    "\n",
    "# file name, I'm using *.pickle as a file extension\n",
    "filename = \"random_forest.pickle\"\n",
    "\n",
    "# save model\n",
    "pickle.dump(rf, open(filename, \"wb\"))\n",
    "\n",
    "# load model\n",
    "loaded_model = pickle.load(open(filename, \"rb\"))\n",
    "\n",
    "# you can use loaded model to compute predictions\n",
    "y_predicted = loaded_model.predict(X)"
   ]
  }
 ],
 "metadata": {
  "kernelspec": {
   "display_name": "Python 3 (ipykernel)",
   "language": "python",
   "name": "python3"
  },
  "language_info": {
   "codemirror_mode": {
    "name": "ipython",
    "version": 3
   },
   "file_extension": ".py",
   "mimetype": "text/x-python",
   "name": "python",
   "nbconvert_exporter": "python",
   "pygments_lexer": "ipython3",
   "version": "3.9.13"
  }
 },
 "nbformat": 4,
 "nbformat_minor": 5
}
